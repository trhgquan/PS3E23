{
 "cells": [
  {
   "cell_type": "code",
   "execution_count": 1,
   "id": "88c1c128",
   "metadata": {
    "_cell_guid": "b1076dfc-b9ad-4769-8c92-a6c4dae69d19",
    "_uuid": "8f2839f25d086af736a60e9eeb907d3b93b6e0e5",
    "execution": {
     "iopub.execute_input": "2023-10-15T06:30:31.156994Z",
     "iopub.status.busy": "2023-10-15T06:30:31.156227Z",
     "iopub.status.idle": "2023-10-15T06:30:31.534216Z",
     "shell.execute_reply": "2023-10-15T06:30:31.533170Z"
    },
    "papermill": {
     "duration": 0.394269,
     "end_time": "2023-10-15T06:30:31.536737",
     "exception": false,
     "start_time": "2023-10-15T06:30:31.142468",
     "status": "completed"
    },
    "tags": []
   },
   "outputs": [
    {
     "name": "stdout",
     "output_type": "stream",
     "text": [
      "/kaggle/input/playground-series-s3e23/sample_submission.csv\n",
      "/kaggle/input/playground-series-s3e23/train.csv\n",
      "/kaggle/input/playground-series-s3e23/test.csv\n"
     ]
    }
   ],
   "source": [
    "# This Python 3 environment comes with many helpful analytics libraries installed\n",
    "# It is defined by the kaggle/python Docker image: https://github.com/kaggle/docker-python\n",
    "# For example, here's several helpful packages to load\n",
    "\n",
    "import numpy as np # linear algebra\n",
    "import pandas as pd # data processing, CSV file I/O (e.g. pd.read_csv)\n",
    "\n",
    "# Input data files are available in the read-only \"../input/\" directory\n",
    "# For example, running this (by clicking run or pressing Shift+Enter) will list all files under the input directory\n",
    "\n",
    "import os\n",
    "for dirname, _, filenames in os.walk('/kaggle/input'):\n",
    "    for filename in filenames:\n",
    "        print(os.path.join(dirname, filename))\n",
    "\n",
    "# You can write up to 20GB to the current directory (/kaggle/working/) that gets preserved as output when you create a version using \"Save & Run All\" \n",
    "# You can also write temporary files to /kaggle/temp/, but they won't be saved outside of the current session"
   ]
  },
  {
   "cell_type": "code",
   "execution_count": 2,
   "id": "65c4d4af",
   "metadata": {
    "execution": {
     "iopub.execute_input": "2023-10-15T06:30:31.562162Z",
     "iopub.status.busy": "2023-10-15T06:30:31.560981Z",
     "iopub.status.idle": "2023-10-15T06:30:34.079632Z",
     "shell.execute_reply": "2023-10-15T06:30:34.078560Z"
    },
    "papermill": {
     "duration": 2.533567,
     "end_time": "2023-10-15T06:30:34.081990",
     "exception": false,
     "start_time": "2023-10-15T06:30:31.548423",
     "status": "completed"
    },
    "tags": []
   },
   "outputs": [],
   "source": [
    "from sklearn.model_selection import KFold, cross_validate, GridSearchCV\n",
    "from sklearn.preprocessing import FunctionTransformer, PolynomialFeatures, StandardScaler\n",
    "from sklearn.pipeline import Pipeline\n",
    "from sklearn.ensemble import GradientBoostingClassifier, RandomForestClassifier, ExtraTreesClassifier\n",
    "from sklearn.linear_model import LogisticRegression, SGDClassifier\n",
    "from sklearn.svm import SVC\n",
    "from sklearn.neural_network import MLPClassifier\n",
    "from sklearn.metrics import make_scorer, roc_auc_score, log_loss\n",
    "from sklearn.model_selection import learning_curve\n",
    "\n",
    "\n",
    "import matplotlib.pyplot as plt\n",
    "\n",
    "import seaborn as sns"
   ]
  },
  {
   "cell_type": "markdown",
   "id": "c8781fa6",
   "metadata": {
    "papermill": {
     "duration": 0.011581,
     "end_time": "2023-10-15T06:30:34.105401",
     "exception": false,
     "start_time": "2023-10-15T06:30:34.093820",
     "status": "completed"
    },
    "tags": []
   },
   "source": [
    "## References\n",
    "- [Ensemble Modeling with Sklearn Pipelines](https://www.kaggle.com/code/bbusath5/ensemble-modeling-with-sklearn-pipelines)\n",
    "- [PSS3E23 EDA which makes sense ⭐️⭐️⭐️⭐️⭐️](https://www.kaggle.com/code/ambrosm/pss3e23-eda-which-makes-sense)"
   ]
  },
  {
   "cell_type": "markdown",
   "id": "84c52efc",
   "metadata": {
    "papermill": {
     "duration": 0.011628,
     "end_time": "2023-10-15T06:30:34.128727",
     "exception": false,
     "start_time": "2023-10-15T06:30:34.117099",
     "status": "completed"
    },
    "tags": []
   },
   "source": [
    "## Loading data & first inspect"
   ]
  },
  {
   "cell_type": "markdown",
   "id": "4e336baa",
   "metadata": {
    "papermill": {
     "duration": 0.01189,
     "end_time": "2023-10-15T06:30:34.152895",
     "exception": false,
     "start_time": "2023-10-15T06:30:34.141005",
     "status": "completed"
    },
    "tags": []
   },
   "source": [
    "Load data"
   ]
  },
  {
   "cell_type": "code",
   "execution_count": 3,
   "id": "4e36ab25",
   "metadata": {
    "execution": {
     "iopub.execute_input": "2023-10-15T06:30:34.179659Z",
     "iopub.status.busy": "2023-10-15T06:30:34.179280Z",
     "iopub.status.idle": "2023-10-15T06:30:34.885025Z",
     "shell.execute_reply": "2023-10-15T06:30:34.883807Z"
    },
    "papermill": {
     "duration": 0.721596,
     "end_time": "2023-10-15T06:30:34.887462",
     "exception": false,
     "start_time": "2023-10-15T06:30:34.165866",
     "status": "completed"
    },
    "tags": []
   },
   "outputs": [],
   "source": [
    "train = pd.read_csv(\"/kaggle/input/playground-series-s3e23/train.csv\")\n",
    "test = pd.read_csv(\"/kaggle/input/playground-series-s3e23/test.csv\")"
   ]
  },
  {
   "cell_type": "code",
   "execution_count": 4,
   "id": "28223979",
   "metadata": {
    "execution": {
     "iopub.execute_input": "2023-10-15T06:30:34.914212Z",
     "iopub.status.busy": "2023-10-15T06:30:34.913839Z",
     "iopub.status.idle": "2023-10-15T06:30:35.081851Z",
     "shell.execute_reply": "2023-10-15T06:30:35.080931Z"
    },
    "papermill": {
     "duration": 0.183899,
     "end_time": "2023-10-15T06:30:35.084727",
     "exception": false,
     "start_time": "2023-10-15T06:30:34.900828",
     "status": "completed"
    },
    "tags": []
   },
   "outputs": [
    {
     "data": {
      "text/html": [
       "<div>\n",
       "<style scoped>\n",
       "    .dataframe tbody tr th:only-of-type {\n",
       "        vertical-align: middle;\n",
       "    }\n",
       "\n",
       "    .dataframe tbody tr th {\n",
       "        vertical-align: top;\n",
       "    }\n",
       "\n",
       "    .dataframe thead th {\n",
       "        text-align: right;\n",
       "    }\n",
       "</style>\n",
       "<table border=\"1\" class=\"dataframe\">\n",
       "  <thead>\n",
       "    <tr style=\"text-align: right;\">\n",
       "      <th></th>\n",
       "      <th>id</th>\n",
       "      <th>loc</th>\n",
       "      <th>v(g)</th>\n",
       "      <th>ev(g)</th>\n",
       "      <th>iv(g)</th>\n",
       "      <th>n</th>\n",
       "      <th>v</th>\n",
       "      <th>l</th>\n",
       "      <th>d</th>\n",
       "      <th>i</th>\n",
       "      <th>...</th>\n",
       "      <th>t</th>\n",
       "      <th>lOCode</th>\n",
       "      <th>lOComment</th>\n",
       "      <th>lOBlank</th>\n",
       "      <th>locCodeAndComment</th>\n",
       "      <th>uniq_Op</th>\n",
       "      <th>uniq_Opnd</th>\n",
       "      <th>total_Op</th>\n",
       "      <th>total_Opnd</th>\n",
       "      <th>branchCount</th>\n",
       "    </tr>\n",
       "  </thead>\n",
       "  <tbody>\n",
       "    <tr>\n",
       "      <th>count</th>\n",
       "      <td>101763.000000</td>\n",
       "      <td>101763.000000</td>\n",
       "      <td>101763.000000</td>\n",
       "      <td>101763.000000</td>\n",
       "      <td>101763.000000</td>\n",
       "      <td>101763.000000</td>\n",
       "      <td>101763.000000</td>\n",
       "      <td>101763.000000</td>\n",
       "      <td>101763.000000</td>\n",
       "      <td>101763.000000</td>\n",
       "      <td>...</td>\n",
       "      <td>101763.000000</td>\n",
       "      <td>101763.000000</td>\n",
       "      <td>101763.000000</td>\n",
       "      <td>101763.000000</td>\n",
       "      <td>101763.000000</td>\n",
       "      <td>101763.000000</td>\n",
       "      <td>101763.000000</td>\n",
       "      <td>101763.000000</td>\n",
       "      <td>101763.000000</td>\n",
       "      <td>101763.000000</td>\n",
       "    </tr>\n",
       "    <tr>\n",
       "      <th>mean</th>\n",
       "      <td>50881.000000</td>\n",
       "      <td>37.347160</td>\n",
       "      <td>5.492684</td>\n",
       "      <td>2.845022</td>\n",
       "      <td>3.498826</td>\n",
       "      <td>96.655995</td>\n",
       "      <td>538.280956</td>\n",
       "      <td>0.111634</td>\n",
       "      <td>13.681881</td>\n",
       "      <td>27.573007</td>\n",
       "      <td>...</td>\n",
       "      <td>1141.357982</td>\n",
       "      <td>22.802453</td>\n",
       "      <td>1.773945</td>\n",
       "      <td>3.979865</td>\n",
       "      <td>0.196604</td>\n",
       "      <td>11.896131</td>\n",
       "      <td>15.596671</td>\n",
       "      <td>57.628116</td>\n",
       "      <td>39.249698</td>\n",
       "      <td>9.839549</td>\n",
       "    </tr>\n",
       "    <tr>\n",
       "      <th>std</th>\n",
       "      <td>29376.592059</td>\n",
       "      <td>54.600401</td>\n",
       "      <td>7.900855</td>\n",
       "      <td>4.631262</td>\n",
       "      <td>5.534541</td>\n",
       "      <td>171.147191</td>\n",
       "      <td>1270.791601</td>\n",
       "      <td>0.100096</td>\n",
       "      <td>14.121306</td>\n",
       "      <td>22.856742</td>\n",
       "      <td>...</td>\n",
       "      <td>9862.795472</td>\n",
       "      <td>38.541010</td>\n",
       "      <td>5.902412</td>\n",
       "      <td>6.382358</td>\n",
       "      <td>0.998906</td>\n",
       "      <td>6.749549</td>\n",
       "      <td>18.064261</td>\n",
       "      <td>104.537660</td>\n",
       "      <td>71.692309</td>\n",
       "      <td>14.412769</td>\n",
       "    </tr>\n",
       "    <tr>\n",
       "      <th>min</th>\n",
       "      <td>0.000000</td>\n",
       "      <td>1.000000</td>\n",
       "      <td>1.000000</td>\n",
       "      <td>1.000000</td>\n",
       "      <td>1.000000</td>\n",
       "      <td>0.000000</td>\n",
       "      <td>0.000000</td>\n",
       "      <td>0.000000</td>\n",
       "      <td>0.000000</td>\n",
       "      <td>0.000000</td>\n",
       "      <td>...</td>\n",
       "      <td>0.000000</td>\n",
       "      <td>0.000000</td>\n",
       "      <td>0.000000</td>\n",
       "      <td>0.000000</td>\n",
       "      <td>0.000000</td>\n",
       "      <td>0.000000</td>\n",
       "      <td>0.000000</td>\n",
       "      <td>0.000000</td>\n",
       "      <td>0.000000</td>\n",
       "      <td>1.000000</td>\n",
       "    </tr>\n",
       "    <tr>\n",
       "      <th>25%</th>\n",
       "      <td>25440.500000</td>\n",
       "      <td>13.000000</td>\n",
       "      <td>2.000000</td>\n",
       "      <td>1.000000</td>\n",
       "      <td>1.000000</td>\n",
       "      <td>25.000000</td>\n",
       "      <td>97.670000</td>\n",
       "      <td>0.050000</td>\n",
       "      <td>5.600000</td>\n",
       "      <td>15.560000</td>\n",
       "      <td>...</td>\n",
       "      <td>31.380000</td>\n",
       "      <td>7.000000</td>\n",
       "      <td>0.000000</td>\n",
       "      <td>1.000000</td>\n",
       "      <td>0.000000</td>\n",
       "      <td>8.000000</td>\n",
       "      <td>7.000000</td>\n",
       "      <td>15.000000</td>\n",
       "      <td>10.000000</td>\n",
       "      <td>3.000000</td>\n",
       "    </tr>\n",
       "    <tr>\n",
       "      <th>50%</th>\n",
       "      <td>50881.000000</td>\n",
       "      <td>22.000000</td>\n",
       "      <td>3.000000</td>\n",
       "      <td>1.000000</td>\n",
       "      <td>2.000000</td>\n",
       "      <td>51.000000</td>\n",
       "      <td>232.790000</td>\n",
       "      <td>0.090000</td>\n",
       "      <td>9.820000</td>\n",
       "      <td>23.360000</td>\n",
       "      <td>...</td>\n",
       "      <td>125.400000</td>\n",
       "      <td>14.000000</td>\n",
       "      <td>0.000000</td>\n",
       "      <td>2.000000</td>\n",
       "      <td>0.000000</td>\n",
       "      <td>11.000000</td>\n",
       "      <td>12.000000</td>\n",
       "      <td>30.000000</td>\n",
       "      <td>20.000000</td>\n",
       "      <td>5.000000</td>\n",
       "    </tr>\n",
       "    <tr>\n",
       "      <th>75%</th>\n",
       "      <td>76321.500000</td>\n",
       "      <td>42.000000</td>\n",
       "      <td>6.000000</td>\n",
       "      <td>3.000000</td>\n",
       "      <td>4.000000</td>\n",
       "      <td>111.000000</td>\n",
       "      <td>560.250000</td>\n",
       "      <td>0.150000</td>\n",
       "      <td>18.000000</td>\n",
       "      <td>34.340000</td>\n",
       "      <td>...</td>\n",
       "      <td>565.920000</td>\n",
       "      <td>26.000000</td>\n",
       "      <td>1.000000</td>\n",
       "      <td>5.000000</td>\n",
       "      <td>0.000000</td>\n",
       "      <td>16.000000</td>\n",
       "      <td>20.000000</td>\n",
       "      <td>66.000000</td>\n",
       "      <td>45.000000</td>\n",
       "      <td>11.000000</td>\n",
       "    </tr>\n",
       "    <tr>\n",
       "      <th>max</th>\n",
       "      <td>101762.000000</td>\n",
       "      <td>3442.000000</td>\n",
       "      <td>404.000000</td>\n",
       "      <td>165.000000</td>\n",
       "      <td>402.000000</td>\n",
       "      <td>8441.000000</td>\n",
       "      <td>80843.080000</td>\n",
       "      <td>1.000000</td>\n",
       "      <td>418.200000</td>\n",
       "      <td>569.780000</td>\n",
       "      <td>...</td>\n",
       "      <td>935923.390000</td>\n",
       "      <td>2824.000000</td>\n",
       "      <td>344.000000</td>\n",
       "      <td>219.000000</td>\n",
       "      <td>43.000000</td>\n",
       "      <td>410.000000</td>\n",
       "      <td>1026.000000</td>\n",
       "      <td>5420.000000</td>\n",
       "      <td>3021.000000</td>\n",
       "      <td>503.000000</td>\n",
       "    </tr>\n",
       "  </tbody>\n",
       "</table>\n",
       "<p>8 rows × 22 columns</p>\n",
       "</div>"
      ],
      "text/plain": [
       "                  id            loc           v(g)          ev(g)  \\\n",
       "count  101763.000000  101763.000000  101763.000000  101763.000000   \n",
       "mean    50881.000000      37.347160       5.492684       2.845022   \n",
       "std     29376.592059      54.600401       7.900855       4.631262   \n",
       "min         0.000000       1.000000       1.000000       1.000000   \n",
       "25%     25440.500000      13.000000       2.000000       1.000000   \n",
       "50%     50881.000000      22.000000       3.000000       1.000000   \n",
       "75%     76321.500000      42.000000       6.000000       3.000000   \n",
       "max    101762.000000    3442.000000     404.000000     165.000000   \n",
       "\n",
       "               iv(g)              n              v              l  \\\n",
       "count  101763.000000  101763.000000  101763.000000  101763.000000   \n",
       "mean        3.498826      96.655995     538.280956       0.111634   \n",
       "std         5.534541     171.147191    1270.791601       0.100096   \n",
       "min         1.000000       0.000000       0.000000       0.000000   \n",
       "25%         1.000000      25.000000      97.670000       0.050000   \n",
       "50%         2.000000      51.000000     232.790000       0.090000   \n",
       "75%         4.000000     111.000000     560.250000       0.150000   \n",
       "max       402.000000    8441.000000   80843.080000       1.000000   \n",
       "\n",
       "                   d              i  ...              t         lOCode  \\\n",
       "count  101763.000000  101763.000000  ...  101763.000000  101763.000000   \n",
       "mean       13.681881      27.573007  ...    1141.357982      22.802453   \n",
       "std        14.121306      22.856742  ...    9862.795472      38.541010   \n",
       "min         0.000000       0.000000  ...       0.000000       0.000000   \n",
       "25%         5.600000      15.560000  ...      31.380000       7.000000   \n",
       "50%         9.820000      23.360000  ...     125.400000      14.000000   \n",
       "75%        18.000000      34.340000  ...     565.920000      26.000000   \n",
       "max       418.200000     569.780000  ...  935923.390000    2824.000000   \n",
       "\n",
       "           lOComment        lOBlank  locCodeAndComment        uniq_Op  \\\n",
       "count  101763.000000  101763.000000      101763.000000  101763.000000   \n",
       "mean        1.773945       3.979865           0.196604      11.896131   \n",
       "std         5.902412       6.382358           0.998906       6.749549   \n",
       "min         0.000000       0.000000           0.000000       0.000000   \n",
       "25%         0.000000       1.000000           0.000000       8.000000   \n",
       "50%         0.000000       2.000000           0.000000      11.000000   \n",
       "75%         1.000000       5.000000           0.000000      16.000000   \n",
       "max       344.000000     219.000000          43.000000     410.000000   \n",
       "\n",
       "           uniq_Opnd       total_Op     total_Opnd    branchCount  \n",
       "count  101763.000000  101763.000000  101763.000000  101763.000000  \n",
       "mean       15.596671      57.628116      39.249698       9.839549  \n",
       "std        18.064261     104.537660      71.692309      14.412769  \n",
       "min         0.000000       0.000000       0.000000       1.000000  \n",
       "25%         7.000000      15.000000      10.000000       3.000000  \n",
       "50%        12.000000      30.000000      20.000000       5.000000  \n",
       "75%        20.000000      66.000000      45.000000      11.000000  \n",
       "max      1026.000000    5420.000000    3021.000000     503.000000  \n",
       "\n",
       "[8 rows x 22 columns]"
      ]
     },
     "execution_count": 4,
     "metadata": {},
     "output_type": "execute_result"
    }
   ],
   "source": [
    "train.describe()"
   ]
  },
  {
   "cell_type": "code",
   "execution_count": 5,
   "id": "5d91f0e0",
   "metadata": {
    "execution": {
     "iopub.execute_input": "2023-10-15T06:30:35.110740Z",
     "iopub.status.busy": "2023-10-15T06:30:35.110346Z",
     "iopub.status.idle": "2023-10-15T06:30:35.140365Z",
     "shell.execute_reply": "2023-10-15T06:30:35.139152Z"
    },
    "papermill": {
     "duration": 0.045899,
     "end_time": "2023-10-15T06:30:35.142452",
     "exception": false,
     "start_time": "2023-10-15T06:30:35.096553",
     "status": "completed"
    },
    "tags": []
   },
   "outputs": [
    {
     "data": {
      "text/html": [
       "<div>\n",
       "<style scoped>\n",
       "    .dataframe tbody tr th:only-of-type {\n",
       "        vertical-align: middle;\n",
       "    }\n",
       "\n",
       "    .dataframe tbody tr th {\n",
       "        vertical-align: top;\n",
       "    }\n",
       "\n",
       "    .dataframe thead th {\n",
       "        text-align: right;\n",
       "    }\n",
       "</style>\n",
       "<table border=\"1\" class=\"dataframe\">\n",
       "  <thead>\n",
       "    <tr style=\"text-align: right;\">\n",
       "      <th></th>\n",
       "      <th>id</th>\n",
       "      <th>loc</th>\n",
       "      <th>v(g)</th>\n",
       "      <th>ev(g)</th>\n",
       "      <th>iv(g)</th>\n",
       "      <th>n</th>\n",
       "      <th>v</th>\n",
       "      <th>l</th>\n",
       "      <th>d</th>\n",
       "      <th>i</th>\n",
       "      <th>...</th>\n",
       "      <th>lOCode</th>\n",
       "      <th>lOComment</th>\n",
       "      <th>lOBlank</th>\n",
       "      <th>locCodeAndComment</th>\n",
       "      <th>uniq_Op</th>\n",
       "      <th>uniq_Opnd</th>\n",
       "      <th>total_Op</th>\n",
       "      <th>total_Opnd</th>\n",
       "      <th>branchCount</th>\n",
       "      <th>defects</th>\n",
       "    </tr>\n",
       "  </thead>\n",
       "  <tbody>\n",
       "    <tr>\n",
       "      <th>0</th>\n",
       "      <td>0</td>\n",
       "      <td>22.0</td>\n",
       "      <td>3.0</td>\n",
       "      <td>1.0</td>\n",
       "      <td>2.0</td>\n",
       "      <td>60.0</td>\n",
       "      <td>278.63</td>\n",
       "      <td>0.06</td>\n",
       "      <td>19.56</td>\n",
       "      <td>14.25</td>\n",
       "      <td>...</td>\n",
       "      <td>17</td>\n",
       "      <td>1</td>\n",
       "      <td>1</td>\n",
       "      <td>0</td>\n",
       "      <td>16.0</td>\n",
       "      <td>9.0</td>\n",
       "      <td>38.0</td>\n",
       "      <td>22.0</td>\n",
       "      <td>5.0</td>\n",
       "      <td>False</td>\n",
       "    </tr>\n",
       "    <tr>\n",
       "      <th>1</th>\n",
       "      <td>1</td>\n",
       "      <td>14.0</td>\n",
       "      <td>2.0</td>\n",
       "      <td>1.0</td>\n",
       "      <td>2.0</td>\n",
       "      <td>32.0</td>\n",
       "      <td>151.27</td>\n",
       "      <td>0.14</td>\n",
       "      <td>7.00</td>\n",
       "      <td>21.11</td>\n",
       "      <td>...</td>\n",
       "      <td>11</td>\n",
       "      <td>0</td>\n",
       "      <td>1</td>\n",
       "      <td>0</td>\n",
       "      <td>11.0</td>\n",
       "      <td>11.0</td>\n",
       "      <td>18.0</td>\n",
       "      <td>14.0</td>\n",
       "      <td>3.0</td>\n",
       "      <td>False</td>\n",
       "    </tr>\n",
       "    <tr>\n",
       "      <th>2</th>\n",
       "      <td>2</td>\n",
       "      <td>11.0</td>\n",
       "      <td>2.0</td>\n",
       "      <td>1.0</td>\n",
       "      <td>2.0</td>\n",
       "      <td>45.0</td>\n",
       "      <td>197.65</td>\n",
       "      <td>0.11</td>\n",
       "      <td>8.05</td>\n",
       "      <td>22.76</td>\n",
       "      <td>...</td>\n",
       "      <td>8</td>\n",
       "      <td>0</td>\n",
       "      <td>1</td>\n",
       "      <td>0</td>\n",
       "      <td>12.0</td>\n",
       "      <td>11.0</td>\n",
       "      <td>28.0</td>\n",
       "      <td>17.0</td>\n",
       "      <td>3.0</td>\n",
       "      <td>False</td>\n",
       "    </tr>\n",
       "    <tr>\n",
       "      <th>3</th>\n",
       "      <td>3</td>\n",
       "      <td>8.0</td>\n",
       "      <td>1.0</td>\n",
       "      <td>1.0</td>\n",
       "      <td>1.0</td>\n",
       "      <td>23.0</td>\n",
       "      <td>94.01</td>\n",
       "      <td>0.19</td>\n",
       "      <td>5.25</td>\n",
       "      <td>17.86</td>\n",
       "      <td>...</td>\n",
       "      <td>4</td>\n",
       "      <td>0</td>\n",
       "      <td>2</td>\n",
       "      <td>0</td>\n",
       "      <td>8.0</td>\n",
       "      <td>6.0</td>\n",
       "      <td>16.0</td>\n",
       "      <td>7.0</td>\n",
       "      <td>1.0</td>\n",
       "      <td>True</td>\n",
       "    </tr>\n",
       "    <tr>\n",
       "      <th>4</th>\n",
       "      <td>4</td>\n",
       "      <td>11.0</td>\n",
       "      <td>2.0</td>\n",
       "      <td>1.0</td>\n",
       "      <td>2.0</td>\n",
       "      <td>17.0</td>\n",
       "      <td>60.94</td>\n",
       "      <td>0.18</td>\n",
       "      <td>5.63</td>\n",
       "      <td>12.44</td>\n",
       "      <td>...</td>\n",
       "      <td>7</td>\n",
       "      <td>0</td>\n",
       "      <td>2</td>\n",
       "      <td>0</td>\n",
       "      <td>7.0</td>\n",
       "      <td>6.0</td>\n",
       "      <td>10.0</td>\n",
       "      <td>10.0</td>\n",
       "      <td>3.0</td>\n",
       "      <td>False</td>\n",
       "    </tr>\n",
       "  </tbody>\n",
       "</table>\n",
       "<p>5 rows × 23 columns</p>\n",
       "</div>"
      ],
      "text/plain": [
       "   id   loc  v(g)  ev(g)  iv(g)     n       v     l      d      i  ...  \\\n",
       "0   0  22.0   3.0    1.0    2.0  60.0  278.63  0.06  19.56  14.25  ...   \n",
       "1   1  14.0   2.0    1.0    2.0  32.0  151.27  0.14   7.00  21.11  ...   \n",
       "2   2  11.0   2.0    1.0    2.0  45.0  197.65  0.11   8.05  22.76  ...   \n",
       "3   3   8.0   1.0    1.0    1.0  23.0   94.01  0.19   5.25  17.86  ...   \n",
       "4   4  11.0   2.0    1.0    2.0  17.0   60.94  0.18   5.63  12.44  ...   \n",
       "\n",
       "   lOCode  lOComment  lOBlank  locCodeAndComment  uniq_Op  uniq_Opnd  \\\n",
       "0      17          1        1                  0     16.0        9.0   \n",
       "1      11          0        1                  0     11.0       11.0   \n",
       "2       8          0        1                  0     12.0       11.0   \n",
       "3       4          0        2                  0      8.0        6.0   \n",
       "4       7          0        2                  0      7.0        6.0   \n",
       "\n",
       "   total_Op  total_Opnd  branchCount  defects  \n",
       "0      38.0        22.0          5.0    False  \n",
       "1      18.0        14.0          3.0    False  \n",
       "2      28.0        17.0          3.0    False  \n",
       "3      16.0         7.0          1.0     True  \n",
       "4      10.0        10.0          3.0    False  \n",
       "\n",
       "[5 rows x 23 columns]"
      ]
     },
     "execution_count": 5,
     "metadata": {},
     "output_type": "execute_result"
    }
   ],
   "source": [
    "train.head()"
   ]
  },
  {
   "cell_type": "code",
   "execution_count": 6,
   "id": "de3099ee",
   "metadata": {
    "execution": {
     "iopub.execute_input": "2023-10-15T06:30:35.168813Z",
     "iopub.status.busy": "2023-10-15T06:30:35.168428Z",
     "iopub.status.idle": "2023-10-15T06:30:35.180871Z",
     "shell.execute_reply": "2023-10-15T06:30:35.179937Z"
    },
    "papermill": {
     "duration": 0.027866,
     "end_time": "2023-10-15T06:30:35.182847",
     "exception": false,
     "start_time": "2023-10-15T06:30:35.154981",
     "status": "completed"
    },
    "tags": []
   },
   "outputs": [],
   "source": [
    "train[\"defects\"] = train[\"defects\"].astype(int)\n",
    "train = train.drop([\"id\"], axis=1)"
   ]
  },
  {
   "cell_type": "code",
   "execution_count": 7,
   "id": "823e4e41",
   "metadata": {
    "execution": {
     "iopub.execute_input": "2023-10-15T06:30:35.210617Z",
     "iopub.status.busy": "2023-10-15T06:30:35.209363Z",
     "iopub.status.idle": "2023-10-15T06:30:35.528726Z",
     "shell.execute_reply": "2023-10-15T06:30:35.527679Z"
    },
    "papermill": {
     "duration": 0.335877,
     "end_time": "2023-10-15T06:30:35.530983",
     "exception": false,
     "start_time": "2023-10-15T06:30:35.195106",
     "status": "completed"
    },
    "tags": []
   },
   "outputs": [
    {
     "data": {
      "text/plain": [
       "<Axes: >"
      ]
     },
     "execution_count": 7,
     "metadata": {},
     "output_type": "execute_result"
    },
    {
     "data": {
      "image/png": "[encoded data removed]",
      "text/plain": [
       "<Figure size 640x480 with 1 Axes>"
      ]
     },
     "metadata": {},
     "output_type": "display_data"
    }
   ],
   "source": [
    "train[\"defects\"].hist()"
   ]
  },
  {
   "cell_type": "markdown",
   "id": "7c017dbc",
   "metadata": {
    "papermill": {
     "duration": 0.012543,
     "end_time": "2023-10-15T06:30:35.556364",
     "exception": false,
     "start_time": "2023-10-15T06:30:35.543821",
     "status": "completed"
    },
    "tags": []
   },
   "source": [
    "Obviously the data is strongly imbalanced. Let's see if there is any blank columns"
   ]
  },
  {
   "cell_type": "code",
   "execution_count": 8,
   "id": "e1df6a4e",
   "metadata": {
    "execution": {
     "iopub.execute_input": "2023-10-15T06:30:35.644448Z",
     "iopub.status.busy": "2023-10-15T06:30:35.643798Z",
     "iopub.status.idle": "2023-10-15T06:30:35.655295Z",
     "shell.execute_reply": "2023-10-15T06:30:35.654224Z"
    },
    "papermill": {
     "duration": 0.027822,
     "end_time": "2023-10-15T06:30:35.657322",
     "exception": false,
     "start_time": "2023-10-15T06:30:35.629500",
     "status": "completed"
    },
    "tags": []
   },
   "outputs": [
    {
     "data": {
      "text/plain": [
       "loc                  0\n",
       "v(g)                 0\n",
       "ev(g)                0\n",
       "iv(g)                0\n",
       "n                    0\n",
       "v                    0\n",
       "l                    0\n",
       "d                    0\n",
       "i                    0\n",
       "e                    0\n",
       "b                    0\n",
       "t                    0\n",
       "lOCode               0\n",
       "lOComment            0\n",
       "lOBlank              0\n",
       "locCodeAndComment    0\n",
       "uniq_Op              0\n",
       "uniq_Opnd            0\n",
       "total_Op             0\n",
       "total_Opnd           0\n",
       "branchCount          0\n",
       "defects              0\n",
       "dtype: int64"
      ]
     },
     "execution_count": 8,
     "metadata": {},
     "output_type": "execute_result"
    }
   ],
   "source": [
    "train.isnull().sum()"
   ]
  },
  {
   "cell_type": "code",
   "execution_count": 9,
   "id": "793819a3",
   "metadata": {
    "execution": {
     "iopub.execute_input": "2023-10-15T06:30:35.684675Z",
     "iopub.status.busy": "2023-10-15T06:30:35.684041Z",
     "iopub.status.idle": "2023-10-15T06:30:35.744975Z",
     "shell.execute_reply": "2023-10-15T06:30:35.743646Z"
    },
    "papermill": {
     "duration": 0.077233,
     "end_time": "2023-10-15T06:30:35.747367",
     "exception": false,
     "start_time": "2023-10-15T06:30:35.670134",
     "status": "completed"
    },
    "tags": []
   },
   "outputs": [
    {
     "data": {
      "text/html": [
       "<div>\n",
       "<style scoped>\n",
       "    .dataframe tbody tr th:only-of-type {\n",
       "        vertical-align: middle;\n",
       "    }\n",
       "\n",
       "    .dataframe tbody tr th {\n",
       "        vertical-align: top;\n",
       "    }\n",
       "\n",
       "    .dataframe thead th {\n",
       "        text-align: right;\n",
       "    }\n",
       "</style>\n",
       "<table border=\"1\" class=\"dataframe\">\n",
       "  <thead>\n",
       "    <tr style=\"text-align: right;\">\n",
       "      <th></th>\n",
       "      <th>loc</th>\n",
       "      <th>v(g)</th>\n",
       "      <th>ev(g)</th>\n",
       "      <th>iv(g)</th>\n",
       "      <th>n</th>\n",
       "      <th>v</th>\n",
       "      <th>l</th>\n",
       "      <th>d</th>\n",
       "      <th>i</th>\n",
       "      <th>e</th>\n",
       "      <th>...</th>\n",
       "      <th>lOCode</th>\n",
       "      <th>lOComment</th>\n",
       "      <th>lOBlank</th>\n",
       "      <th>locCodeAndComment</th>\n",
       "      <th>uniq_Op</th>\n",
       "      <th>uniq_Opnd</th>\n",
       "      <th>total_Op</th>\n",
       "      <th>total_Opnd</th>\n",
       "      <th>branchCount</th>\n",
       "      <th>defects</th>\n",
       "    </tr>\n",
       "  </thead>\n",
       "  <tbody>\n",
       "    <tr>\n",
       "      <th>0</th>\n",
       "      <td>22.0</td>\n",
       "      <td>3.0</td>\n",
       "      <td>1.0</td>\n",
       "      <td>2.0</td>\n",
       "      <td>60.0</td>\n",
       "      <td>278.63</td>\n",
       "      <td>0.06</td>\n",
       "      <td>19.56</td>\n",
       "      <td>14.25</td>\n",
       "      <td>5448.79</td>\n",
       "      <td>...</td>\n",
       "      <td>17</td>\n",
       "      <td>1</td>\n",
       "      <td>1</td>\n",
       "      <td>0</td>\n",
       "      <td>16.0</td>\n",
       "      <td>9.0</td>\n",
       "      <td>38.0</td>\n",
       "      <td>22.0</td>\n",
       "      <td>5.0</td>\n",
       "      <td>0</td>\n",
       "    </tr>\n",
       "    <tr>\n",
       "      <th>1</th>\n",
       "      <td>14.0</td>\n",
       "      <td>2.0</td>\n",
       "      <td>1.0</td>\n",
       "      <td>2.0</td>\n",
       "      <td>32.0</td>\n",
       "      <td>151.27</td>\n",
       "      <td>0.14</td>\n",
       "      <td>7.00</td>\n",
       "      <td>21.11</td>\n",
       "      <td>936.71</td>\n",
       "      <td>...</td>\n",
       "      <td>11</td>\n",
       "      <td>0</td>\n",
       "      <td>1</td>\n",
       "      <td>0</td>\n",
       "      <td>11.0</td>\n",
       "      <td>11.0</td>\n",
       "      <td>18.0</td>\n",
       "      <td>14.0</td>\n",
       "      <td>3.0</td>\n",
       "      <td>0</td>\n",
       "    </tr>\n",
       "    <tr>\n",
       "      <th>2</th>\n",
       "      <td>11.0</td>\n",
       "      <td>2.0</td>\n",
       "      <td>1.0</td>\n",
       "      <td>2.0</td>\n",
       "      <td>45.0</td>\n",
       "      <td>197.65</td>\n",
       "      <td>0.11</td>\n",
       "      <td>8.05</td>\n",
       "      <td>22.76</td>\n",
       "      <td>1754.01</td>\n",
       "      <td>...</td>\n",
       "      <td>8</td>\n",
       "      <td>0</td>\n",
       "      <td>1</td>\n",
       "      <td>0</td>\n",
       "      <td>12.0</td>\n",
       "      <td>11.0</td>\n",
       "      <td>28.0</td>\n",
       "      <td>17.0</td>\n",
       "      <td>3.0</td>\n",
       "      <td>0</td>\n",
       "    </tr>\n",
       "    <tr>\n",
       "      <th>3</th>\n",
       "      <td>8.0</td>\n",
       "      <td>1.0</td>\n",
       "      <td>1.0</td>\n",
       "      <td>1.0</td>\n",
       "      <td>23.0</td>\n",
       "      <td>94.01</td>\n",
       "      <td>0.19</td>\n",
       "      <td>5.25</td>\n",
       "      <td>17.86</td>\n",
       "      <td>473.66</td>\n",
       "      <td>...</td>\n",
       "      <td>4</td>\n",
       "      <td>0</td>\n",
       "      <td>2</td>\n",
       "      <td>0</td>\n",
       "      <td>8.0</td>\n",
       "      <td>6.0</td>\n",
       "      <td>16.0</td>\n",
       "      <td>7.0</td>\n",
       "      <td>1.0</td>\n",
       "      <td>1</td>\n",
       "    </tr>\n",
       "    <tr>\n",
       "      <th>4</th>\n",
       "      <td>11.0</td>\n",
       "      <td>2.0</td>\n",
       "      <td>1.0</td>\n",
       "      <td>2.0</td>\n",
       "      <td>17.0</td>\n",
       "      <td>60.94</td>\n",
       "      <td>0.18</td>\n",
       "      <td>5.63</td>\n",
       "      <td>12.44</td>\n",
       "      <td>365.67</td>\n",
       "      <td>...</td>\n",
       "      <td>7</td>\n",
       "      <td>0</td>\n",
       "      <td>2</td>\n",
       "      <td>0</td>\n",
       "      <td>7.0</td>\n",
       "      <td>6.0</td>\n",
       "      <td>10.0</td>\n",
       "      <td>10.0</td>\n",
       "      <td>3.0</td>\n",
       "      <td>0</td>\n",
       "    </tr>\n",
       "    <tr>\n",
       "      <th>...</th>\n",
       "      <td>...</td>\n",
       "      <td>...</td>\n",
       "      <td>...</td>\n",
       "      <td>...</td>\n",
       "      <td>...</td>\n",
       "      <td>...</td>\n",
       "      <td>...</td>\n",
       "      <td>...</td>\n",
       "      <td>...</td>\n",
       "      <td>...</td>\n",
       "      <td>...</td>\n",
       "      <td>...</td>\n",
       "      <td>...</td>\n",
       "      <td>...</td>\n",
       "      <td>...</td>\n",
       "      <td>...</td>\n",
       "      <td>...</td>\n",
       "      <td>...</td>\n",
       "      <td>...</td>\n",
       "      <td>...</td>\n",
       "      <td>...</td>\n",
       "    </tr>\n",
       "    <tr>\n",
       "      <th>101758</th>\n",
       "      <td>10.0</td>\n",
       "      <td>2.0</td>\n",
       "      <td>1.0</td>\n",
       "      <td>1.0</td>\n",
       "      <td>28.0</td>\n",
       "      <td>122.98</td>\n",
       "      <td>0.15</td>\n",
       "      <td>6.60</td>\n",
       "      <td>18.63</td>\n",
       "      <td>811.70</td>\n",
       "      <td>...</td>\n",
       "      <td>7</td>\n",
       "      <td>0</td>\n",
       "      <td>1</td>\n",
       "      <td>0</td>\n",
       "      <td>11.0</td>\n",
       "      <td>8.0</td>\n",
       "      <td>16.0</td>\n",
       "      <td>12.0</td>\n",
       "      <td>3.0</td>\n",
       "      <td>0</td>\n",
       "    </tr>\n",
       "    <tr>\n",
       "      <th>101759</th>\n",
       "      <td>27.0</td>\n",
       "      <td>5.0</td>\n",
       "      <td>4.0</td>\n",
       "      <td>1.0</td>\n",
       "      <td>107.0</td>\n",
       "      <td>559.93</td>\n",
       "      <td>0.06</td>\n",
       "      <td>18.00</td>\n",
       "      <td>34.17</td>\n",
       "      <td>11268.27</td>\n",
       "      <td>...</td>\n",
       "      <td>23</td>\n",
       "      <td>0</td>\n",
       "      <td>2</td>\n",
       "      <td>0</td>\n",
       "      <td>18.0</td>\n",
       "      <td>20.0</td>\n",
       "      <td>67.0</td>\n",
       "      <td>40.0</td>\n",
       "      <td>9.0</td>\n",
       "      <td>0</td>\n",
       "    </tr>\n",
       "    <tr>\n",
       "      <th>101760</th>\n",
       "      <td>26.0</td>\n",
       "      <td>1.0</td>\n",
       "      <td>1.0</td>\n",
       "      <td>1.0</td>\n",
       "      <td>83.0</td>\n",
       "      <td>360.17</td>\n",
       "      <td>0.04</td>\n",
       "      <td>22.75</td>\n",
       "      <td>12.56</td>\n",
       "      <td>5893.69</td>\n",
       "      <td>...</td>\n",
       "      <td>20</td>\n",
       "      <td>0</td>\n",
       "      <td>4</td>\n",
       "      <td>0</td>\n",
       "      <td>10.0</td>\n",
       "      <td>8.0</td>\n",
       "      <td>51.0</td>\n",
       "      <td>28.0</td>\n",
       "      <td>1.0</td>\n",
       "      <td>0</td>\n",
       "    </tr>\n",
       "    <tr>\n",
       "      <th>101761</th>\n",
       "      <td>10.0</td>\n",
       "      <td>2.0</td>\n",
       "      <td>1.0</td>\n",
       "      <td>2.0</td>\n",
       "      <td>43.0</td>\n",
       "      <td>191.76</td>\n",
       "      <td>0.15</td>\n",
       "      <td>6.46</td>\n",
       "      <td>29.53</td>\n",
       "      <td>1534.04</td>\n",
       "      <td>...</td>\n",
       "      <td>7</td>\n",
       "      <td>0</td>\n",
       "      <td>1</td>\n",
       "      <td>0</td>\n",
       "      <td>11.0</td>\n",
       "      <td>14.0</td>\n",
       "      <td>24.0</td>\n",
       "      <td>19.0</td>\n",
       "      <td>3.0</td>\n",
       "      <td>0</td>\n",
       "    </tr>\n",
       "    <tr>\n",
       "      <th>101762</th>\n",
       "      <td>136.0</td>\n",
       "      <td>18.0</td>\n",
       "      <td>18.0</td>\n",
       "      <td>1.0</td>\n",
       "      <td>296.0</td>\n",
       "      <td>1704.57</td>\n",
       "      <td>0.02</td>\n",
       "      <td>44.82</td>\n",
       "      <td>44.08</td>\n",
       "      <td>77011.02</td>\n",
       "      <td>...</td>\n",
       "      <td>102</td>\n",
       "      <td>1</td>\n",
       "      <td>11</td>\n",
       "      <td>0</td>\n",
       "      <td>22.0</td>\n",
       "      <td>31.0</td>\n",
       "      <td>162.0</td>\n",
       "      <td>135.0</td>\n",
       "      <td>35.0</td>\n",
       "      <td>0</td>\n",
       "    </tr>\n",
       "  </tbody>\n",
       "</table>\n",
       "<p>101763 rows × 22 columns</p>\n",
       "</div>"
      ],
      "text/plain": [
       "          loc  v(g)  ev(g)  iv(g)      n        v     l      d      i  \\\n",
       "0        22.0   3.0    1.0    2.0   60.0   278.63  0.06  19.56  14.25   \n",
       "1        14.0   2.0    1.0    2.0   32.0   151.27  0.14   7.00  21.11   \n",
       "2        11.0   2.0    1.0    2.0   45.0   197.65  0.11   8.05  22.76   \n",
       "3         8.0   1.0    1.0    1.0   23.0    94.01  0.19   5.25  17.86   \n",
       "4        11.0   2.0    1.0    2.0   17.0    60.94  0.18   5.63  12.44   \n",
       "...       ...   ...    ...    ...    ...      ...   ...    ...    ...   \n",
       "101758   10.0   2.0    1.0    1.0   28.0   122.98  0.15   6.60  18.63   \n",
       "101759   27.0   5.0    4.0    1.0  107.0   559.93  0.06  18.00  34.17   \n",
       "101760   26.0   1.0    1.0    1.0   83.0   360.17  0.04  22.75  12.56   \n",
       "101761   10.0   2.0    1.0    2.0   43.0   191.76  0.15   6.46  29.53   \n",
       "101762  136.0  18.0   18.0    1.0  296.0  1704.57  0.02  44.82  44.08   \n",
       "\n",
       "               e  ...  lOCode  lOComment  lOBlank  locCodeAndComment  uniq_Op  \\\n",
       "0        5448.79  ...      17          1        1                  0     16.0   \n",
       "1         936.71  ...      11          0        1                  0     11.0   \n",
       "2        1754.01  ...       8          0        1                  0     12.0   \n",
       "3         473.66  ...       4          0        2                  0      8.0   \n",
       "4         365.67  ...       7          0        2                  0      7.0   \n",
       "...          ...  ...     ...        ...      ...                ...      ...   \n",
       "101758    811.70  ...       7          0        1                  0     11.0   \n",
       "101759  11268.27  ...      23          0        2                  0     18.0   \n",
       "101760   5893.69  ...      20          0        4                  0     10.0   \n",
       "101761   1534.04  ...       7          0        1                  0     11.0   \n",
       "101762  77011.02  ...     102          1       11                  0     22.0   \n",
       "\n",
       "        uniq_Opnd  total_Op  total_Opnd  branchCount  defects  \n",
       "0             9.0      38.0        22.0          5.0        0  \n",
       "1            11.0      18.0        14.0          3.0        0  \n",
       "2            11.0      28.0        17.0          3.0        0  \n",
       "3             6.0      16.0         7.0          1.0        1  \n",
       "4             6.0      10.0        10.0          3.0        0  \n",
       "...           ...       ...         ...          ...      ...  \n",
       "101758        8.0      16.0        12.0          3.0        0  \n",
       "101759       20.0      67.0        40.0          9.0        0  \n",
       "101760        8.0      51.0        28.0          1.0        0  \n",
       "101761       14.0      24.0        19.0          3.0        0  \n",
       "101762       31.0     162.0       135.0         35.0        0  \n",
       "\n",
       "[101763 rows x 22 columns]"
      ]
     },
     "execution_count": 9,
     "metadata": {},
     "output_type": "execute_result"
    }
   ],
   "source": [
    "train"
   ]
  },
  {
   "cell_type": "code",
   "execution_count": 10,
   "id": "1f949382",
   "metadata": {
    "execution": {
     "iopub.execute_input": "2023-10-15T06:30:35.777117Z",
     "iopub.status.busy": "2023-10-15T06:30:35.776742Z",
     "iopub.status.idle": "2023-10-15T06:30:35.848030Z",
     "shell.execute_reply": "2023-10-15T06:30:35.846897Z"
    },
    "papermill": {
     "duration": 0.088691,
     "end_time": "2023-10-15T06:30:35.850262",
     "exception": false,
     "start_time": "2023-10-15T06:30:35.761571",
     "status": "completed"
    },
    "tags": []
   },
   "outputs": [
    {
     "data": {
      "text/html": [
       "<div>\n",
       "<style scoped>\n",
       "    .dataframe tbody tr th:only-of-type {\n",
       "        vertical-align: middle;\n",
       "    }\n",
       "\n",
       "    .dataframe tbody tr th {\n",
       "        vertical-align: top;\n",
       "    }\n",
       "\n",
       "    .dataframe thead th {\n",
       "        text-align: right;\n",
       "    }\n",
       "</style>\n",
       "<table border=\"1\" class=\"dataframe\">\n",
       "  <thead>\n",
       "    <tr style=\"text-align: right;\">\n",
       "      <th></th>\n",
       "      <th>loc</th>\n",
       "      <th>v(g)</th>\n",
       "      <th>ev(g)</th>\n",
       "      <th>iv(g)</th>\n",
       "      <th>n</th>\n",
       "      <th>v</th>\n",
       "      <th>l</th>\n",
       "      <th>d</th>\n",
       "      <th>i</th>\n",
       "      <th>e</th>\n",
       "      <th>...</th>\n",
       "      <th>lOCode</th>\n",
       "      <th>lOComment</th>\n",
       "      <th>lOBlank</th>\n",
       "      <th>locCodeAndComment</th>\n",
       "      <th>uniq_Op</th>\n",
       "      <th>uniq_Opnd</th>\n",
       "      <th>total_Op</th>\n",
       "      <th>total_Opnd</th>\n",
       "      <th>branchCount</th>\n",
       "      <th>defects</th>\n",
       "    </tr>\n",
       "  </thead>\n",
       "  <tbody>\n",
       "    <tr>\n",
       "      <th>loc</th>\n",
       "      <td>2.981204e+03</td>\n",
       "      <td>328.507296</td>\n",
       "      <td>137.704468</td>\n",
       "      <td>210.421645</td>\n",
       "      <td>7.098282e+03</td>\n",
       "      <td>5.259920e+04</td>\n",
       "      <td>-2.120625</td>\n",
       "      <td>4.622120e+02</td>\n",
       "      <td>6.070546e+02</td>\n",
       "      <td>5.215968e+06</td>\n",
       "      <td>...</td>\n",
       "      <td>1.690765e+03</td>\n",
       "      <td>170.170005</td>\n",
       "      <td>233.742687</td>\n",
       "      <td>13.430331</td>\n",
       "      <td>135.274980</td>\n",
       "      <td>6.288570e+02</td>\n",
       "      <td>4.364253e+03</td>\n",
       "      <td>2.981471e+03</td>\n",
       "      <td>6.002446e+02</td>\n",
       "      <td>7.832493</td>\n",
       "    </tr>\n",
       "    <tr>\n",
       "      <th>v(g)</th>\n",
       "      <td>3.285073e+02</td>\n",
       "      <td>62.423511</td>\n",
       "      <td>26.683911</td>\n",
       "      <td>34.568988</td>\n",
       "      <td>8.532999e+02</td>\n",
       "      <td>6.207609e+03</td>\n",
       "      <td>-0.306270</td>\n",
       "      <td>6.407545e+01</td>\n",
       "      <td>5.499454e+01</td>\n",
       "      <td>6.477181e+05</td>\n",
       "      <td>...</td>\n",
       "      <td>1.954433e+02</td>\n",
       "      <td>17.698578</td>\n",
       "      <td>23.284709</td>\n",
       "      <td>1.644139</td>\n",
       "      <td>20.793210</td>\n",
       "      <td>7.597980e+01</td>\n",
       "      <td>5.278773e+02</td>\n",
       "      <td>3.435135e+02</td>\n",
       "      <td>1.100815e+02</td>\n",
       "      <td>0.996263</td>\n",
       "    </tr>\n",
       "    <tr>\n",
       "      <th>ev(g)</th>\n",
       "      <td>1.377045e+02</td>\n",
       "      <td>26.683911</td>\n",
       "      <td>21.448584</td>\n",
       "      <td>13.975924</td>\n",
       "      <td>3.095245e+02</td>\n",
       "      <td>2.164033e+03</td>\n",
       "      <td>-0.150887</td>\n",
       "      <td>2.339565e+01</td>\n",
       "      <td>1.699978e+01</td>\n",
       "      <td>2.428695e+05</td>\n",
       "      <td>...</td>\n",
       "      <td>6.828117e+01</td>\n",
       "      <td>8.000824</td>\n",
       "      <td>8.344121</td>\n",
       "      <td>0.761302</td>\n",
       "      <td>6.266169</td>\n",
       "      <td>2.334959e+01</td>\n",
       "      <td>1.912179e+02</td>\n",
       "      <td>1.238014e+02</td>\n",
       "      <td>5.171413e+01</td>\n",
       "      <td>0.503984</td>\n",
       "    </tr>\n",
       "    <tr>\n",
       "      <th>iv(g)</th>\n",
       "      <td>2.104216e+02</td>\n",
       "      <td>34.568988</td>\n",
       "      <td>13.975924</td>\n",
       "      <td>30.631145</td>\n",
       "      <td>5.585933e+02</td>\n",
       "      <td>4.115396e+03</td>\n",
       "      <td>-0.161559</td>\n",
       "      <td>3.807018e+01</td>\n",
       "      <td>4.047687e+01</td>\n",
       "      <td>4.158684e+05</td>\n",
       "      <td>...</td>\n",
       "      <td>1.358541e+02</td>\n",
       "      <td>11.032605</td>\n",
       "      <td>15.048840</td>\n",
       "      <td>0.987087</td>\n",
       "      <td>14.152912</td>\n",
       "      <td>5.505085e+01</td>\n",
       "      <td>3.422788e+02</td>\n",
       "      <td>2.250152e+02</td>\n",
       "      <td>5.965617e+01</td>\n",
       "      <td>0.569123</td>\n",
       "    </tr>\n",
       "    <tr>\n",
       "      <th>n</th>\n",
       "      <td>7.098282e+03</td>\n",
       "      <td>853.299900</td>\n",
       "      <td>309.524495</td>\n",
       "      <td>558.593270</td>\n",
       "      <td>2.929136e+04</td>\n",
       "      <td>2.019177e+05</td>\n",
       "      <td>-5.145332</td>\n",
       "      <td>1.953495e+03</td>\n",
       "      <td>2.837701e+03</td>\n",
       "      <td>1.857612e+07</td>\n",
       "      <td>...</td>\n",
       "      <td>6.014145e+03</td>\n",
       "      <td>572.140018</td>\n",
       "      <td>846.927037</td>\n",
       "      <td>44.948090</td>\n",
       "      <td>713.917650</td>\n",
       "      <td>2.532041e+03</td>\n",
       "      <td>1.723603e+04</td>\n",
       "      <td>1.169424e+04</td>\n",
       "      <td>1.544180e+03</td>\n",
       "      <td>18.492169</td>\n",
       "    </tr>\n",
       "    <tr>\n",
       "      <th>v</th>\n",
       "      <td>5.259920e+04</td>\n",
       "      <td>6207.608687</td>\n",
       "      <td>2164.033061</td>\n",
       "      <td>4115.396184</td>\n",
       "      <td>2.019177e+05</td>\n",
       "      <td>1.614911e+06</td>\n",
       "      <td>-32.320179</td>\n",
       "      <td>1.342522e+04</td>\n",
       "      <td>1.955926e+04</td>\n",
       "      <td>1.410272e+08</td>\n",
       "      <td>...</td>\n",
       "      <td>4.404347e+04</td>\n",
       "      <td>3990.281876</td>\n",
       "      <td>5963.581860</td>\n",
       "      <td>307.268173</td>\n",
       "      <td>4668.458534</td>\n",
       "      <td>1.834094e+04</td>\n",
       "      <td>1.244027e+05</td>\n",
       "      <td>8.583909e+04</td>\n",
       "      <td>1.114832e+04</td>\n",
       "      <td>122.994639</td>\n",
       "    </tr>\n",
       "    <tr>\n",
       "      <th>l</th>\n",
       "      <td>-2.120625e+00</td>\n",
       "      <td>-0.306270</td>\n",
       "      <td>-0.150887</td>\n",
       "      <td>-0.161559</td>\n",
       "      <td>-5.145332e+00</td>\n",
       "      <td>-3.232018e+01</td>\n",
       "      <td>0.010019</td>\n",
       "      <td>-6.025811e-01</td>\n",
       "      <td>-3.713196e-01</td>\n",
       "      <td>-1.750436e+03</td>\n",
       "      <td>...</td>\n",
       "      <td>-1.117655e+00</td>\n",
       "      <td>-0.111061</td>\n",
       "      <td>-0.184524</td>\n",
       "      <td>-0.012546</td>\n",
       "      <td>-0.269863</td>\n",
       "      <td>-5.128736e-01</td>\n",
       "      <td>-3.081259e+00</td>\n",
       "      <td>-2.085079e+00</td>\n",
       "      <td>-6.004132e-01</td>\n",
       "      <td>-0.010612</td>\n",
       "    </tr>\n",
       "    <tr>\n",
       "      <th>d</th>\n",
       "      <td>4.622120e+02</td>\n",
       "      <td>64.075449</td>\n",
       "      <td>23.395645</td>\n",
       "      <td>38.070184</td>\n",
       "      <td>1.953495e+03</td>\n",
       "      <td>1.342522e+04</td>\n",
       "      <td>-0.602581</td>\n",
       "      <td>1.994113e+02</td>\n",
       "      <td>1.663547e+02</td>\n",
       "      <td>1.268258e+06</td>\n",
       "      <td>...</td>\n",
       "      <td>4.238921e+02</td>\n",
       "      <td>40.559617</td>\n",
       "      <td>60.952750</td>\n",
       "      <td>3.782966</td>\n",
       "      <td>74.608739</td>\n",
       "      <td>1.761791e+02</td>\n",
       "      <td>1.193182e+03</td>\n",
       "      <td>7.944605e+02</td>\n",
       "      <td>1.170595e+02</td>\n",
       "      <td>1.430341</td>\n",
       "    </tr>\n",
       "    <tr>\n",
       "      <th>i</th>\n",
       "      <td>6.070546e+02</td>\n",
       "      <td>54.994536</td>\n",
       "      <td>16.999783</td>\n",
       "      <td>40.476870</td>\n",
       "      <td>2.837701e+03</td>\n",
       "      <td>1.955926e+04</td>\n",
       "      <td>-0.371320</td>\n",
       "      <td>1.663547e+02</td>\n",
       "      <td>5.224307e+02</td>\n",
       "      <td>1.246418e+06</td>\n",
       "      <td>...</td>\n",
       "      <td>5.964661e+02</td>\n",
       "      <td>58.797525</td>\n",
       "      <td>95.456421</td>\n",
       "      <td>4.889438</td>\n",
       "      <td>81.400527</td>\n",
       "      <td>3.316871e+02</td>\n",
       "      <td>1.677491e+03</td>\n",
       "      <td>1.212932e+03</td>\n",
       "      <td>1.034191e+02</td>\n",
       "      <td>1.995932</td>\n",
       "    </tr>\n",
       "    <tr>\n",
       "      <th>e</th>\n",
       "      <td>5.215968e+06</td>\n",
       "      <td>647718.131508</td>\n",
       "      <td>242869.478553</td>\n",
       "      <td>415868.429144</td>\n",
       "      <td>1.857612e+07</td>\n",
       "      <td>1.410272e+08</td>\n",
       "      <td>-1750.435740</td>\n",
       "      <td>1.268258e+06</td>\n",
       "      <td>1.246418e+06</td>\n",
       "      <td>3.631746e+10</td>\n",
       "      <td>...</td>\n",
       "      <td>4.260645e+06</td>\n",
       "      <td>370060.976706</td>\n",
       "      <td>530640.263844</td>\n",
       "      <td>23719.991771</td>\n",
       "      <td>354784.169330</td>\n",
       "      <td>1.428119e+06</td>\n",
       "      <td>1.153513e+07</td>\n",
       "      <td>7.746453e+06</td>\n",
       "      <td>1.173126e+06</td>\n",
       "      <td>7608.780583</td>\n",
       "    </tr>\n",
       "    <tr>\n",
       "      <th>b</th>\n",
       "      <td>1.704262e+01</td>\n",
       "      <td>2.039600</td>\n",
       "      <td>0.705058</td>\n",
       "      <td>1.316708</td>\n",
       "      <td>6.629561e+01</td>\n",
       "      <td>5.013725e+02</td>\n",
       "      <td>-0.010735</td>\n",
       "      <td>4.498302e+00</td>\n",
       "      <td>6.570713e+00</td>\n",
       "      <td>4.943015e+04</td>\n",
       "      <td>...</td>\n",
       "      <td>1.432744e+01</td>\n",
       "      <td>1.324153</td>\n",
       "      <td>2.002831</td>\n",
       "      <td>0.103151</td>\n",
       "      <td>1.534537</td>\n",
       "      <td>6.060198e+00</td>\n",
       "      <td>4.066400e+01</td>\n",
       "      <td>2.828734e+01</td>\n",
       "      <td>3.719758e+00</td>\n",
       "      <td>0.041079</td>\n",
       "    </tr>\n",
       "    <tr>\n",
       "      <th>t</th>\n",
       "      <td>2.758412e+05</td>\n",
       "      <td>36786.585051</td>\n",
       "      <td>12807.483696</td>\n",
       "      <td>22633.572799</td>\n",
       "      <td>1.016512e+06</td>\n",
       "      <td>7.400201e+06</td>\n",
       "      <td>-95.761192</td>\n",
       "      <td>6.879881e+04</td>\n",
       "      <td>6.784097e+04</td>\n",
       "      <td>1.500394e+09</td>\n",
       "      <td>...</td>\n",
       "      <td>2.254504e+05</td>\n",
       "      <td>19984.178037</td>\n",
       "      <td>27827.145829</td>\n",
       "      <td>1271.792218</td>\n",
       "      <td>20375.091738</td>\n",
       "      <td>7.911794e+04</td>\n",
       "      <td>6.215915e+05</td>\n",
       "      <td>4.114058e+05</td>\n",
       "      <td>6.495267e+04</td>\n",
       "      <td>411.234972</td>\n",
       "    </tr>\n",
       "    <tr>\n",
       "      <th>lOCode</th>\n",
       "      <td>1.690765e+03</td>\n",
       "      <td>195.443254</td>\n",
       "      <td>68.281171</td>\n",
       "      <td>135.854080</td>\n",
       "      <td>6.014145e+03</td>\n",
       "      <td>4.404347e+04</td>\n",
       "      <td>-1.117655</td>\n",
       "      <td>4.238921e+02</td>\n",
       "      <td>5.964661e+02</td>\n",
       "      <td>4.260645e+06</td>\n",
       "      <td>...</td>\n",
       "      <td>1.485409e+03</td>\n",
       "      <td>126.388943</td>\n",
       "      <td>189.821881</td>\n",
       "      <td>10.103057</td>\n",
       "      <td>161.071431</td>\n",
       "      <td>5.751464e+02</td>\n",
       "      <td>3.694231e+03</td>\n",
       "      <td>2.534457e+03</td>\n",
       "      <td>3.467591e+02</td>\n",
       "      <td>4.043673</td>\n",
       "    </tr>\n",
       "    <tr>\n",
       "      <th>lOComment</th>\n",
       "      <td>1.701700e+02</td>\n",
       "      <td>17.698578</td>\n",
       "      <td>8.000824</td>\n",
       "      <td>11.032605</td>\n",
       "      <td>5.721400e+02</td>\n",
       "      <td>3.990282e+03</td>\n",
       "      <td>-0.111061</td>\n",
       "      <td>4.055962e+01</td>\n",
       "      <td>5.879753e+01</td>\n",
       "      <td>3.700610e+05</td>\n",
       "      <td>...</td>\n",
       "      <td>1.263889e+02</td>\n",
       "      <td>34.838465</td>\n",
       "      <td>21.884886</td>\n",
       "      <td>1.505795</td>\n",
       "      <td>15.361202</td>\n",
       "      <td>5.126787e+01</td>\n",
       "      <td>3.445835e+02</td>\n",
       "      <td>2.320169e+02</td>\n",
       "      <td>3.328640e+01</td>\n",
       "      <td>0.507574</td>\n",
       "    </tr>\n",
       "    <tr>\n",
       "      <th>lOBlank</th>\n",
       "      <td>2.337427e+02</td>\n",
       "      <td>23.284709</td>\n",
       "      <td>8.344121</td>\n",
       "      <td>15.048840</td>\n",
       "      <td>8.469270e+02</td>\n",
       "      <td>5.963582e+03</td>\n",
       "      <td>-0.184524</td>\n",
       "      <td>6.095275e+01</td>\n",
       "      <td>9.545642e+01</td>\n",
       "      <td>5.306403e+05</td>\n",
       "      <td>...</td>\n",
       "      <td>1.898219e+02</td>\n",
       "      <td>21.884886</td>\n",
       "      <td>40.734496</td>\n",
       "      <td>1.719658</td>\n",
       "      <td>24.137597</td>\n",
       "      <td>8.066639e+01</td>\n",
       "      <td>5.118043e+02</td>\n",
       "      <td>3.534817e+02</td>\n",
       "      <td>4.376013e+01</td>\n",
       "      <td>0.688905</td>\n",
       "    </tr>\n",
       "    <tr>\n",
       "      <th>locCodeAndComment</th>\n",
       "      <td>1.343033e+01</td>\n",
       "      <td>1.644139</td>\n",
       "      <td>0.761302</td>\n",
       "      <td>0.987087</td>\n",
       "      <td>4.494809e+01</td>\n",
       "      <td>3.072682e+02</td>\n",
       "      <td>-0.012546</td>\n",
       "      <td>3.782966e+00</td>\n",
       "      <td>4.889438e+00</td>\n",
       "      <td>2.371999e+04</td>\n",
       "      <td>...</td>\n",
       "      <td>1.010306e+01</td>\n",
       "      <td>1.505795</td>\n",
       "      <td>1.719658</td>\n",
       "      <td>0.997814</td>\n",
       "      <td>1.600422</td>\n",
       "      <td>4.539429e+00</td>\n",
       "      <td>2.707948e+01</td>\n",
       "      <td>1.839200e+01</td>\n",
       "      <td>3.220526e+00</td>\n",
       "      <td>0.055684</td>\n",
       "    </tr>\n",
       "    <tr>\n",
       "      <th>uniq_Op</th>\n",
       "      <td>1.352750e+02</td>\n",
       "      <td>20.793210</td>\n",
       "      <td>6.266169</td>\n",
       "      <td>14.152912</td>\n",
       "      <td>7.139176e+02</td>\n",
       "      <td>4.668459e+03</td>\n",
       "      <td>-0.269863</td>\n",
       "      <td>7.460874e+01</td>\n",
       "      <td>8.140053e+01</td>\n",
       "      <td>3.547842e+05</td>\n",
       "      <td>...</td>\n",
       "      <td>1.610714e+02</td>\n",
       "      <td>15.361202</td>\n",
       "      <td>24.137597</td>\n",
       "      <td>1.600422</td>\n",
       "      <td>45.556417</td>\n",
       "      <td>8.081487e+01</td>\n",
       "      <td>4.308340e+02</td>\n",
       "      <td>2.853696e+02</td>\n",
       "      <td>3.587821e+01</td>\n",
       "      <td>0.504330</td>\n",
       "    </tr>\n",
       "    <tr>\n",
       "      <th>uniq_Opnd</th>\n",
       "      <td>6.288570e+02</td>\n",
       "      <td>75.979803</td>\n",
       "      <td>23.349591</td>\n",
       "      <td>55.050852</td>\n",
       "      <td>2.532041e+03</td>\n",
       "      <td>1.834094e+04</td>\n",
       "      <td>-0.512874</td>\n",
       "      <td>1.761791e+02</td>\n",
       "      <td>3.316871e+02</td>\n",
       "      <td>1.428119e+06</td>\n",
       "      <td>...</td>\n",
       "      <td>5.751464e+02</td>\n",
       "      <td>51.267868</td>\n",
       "      <td>80.666394</td>\n",
       "      <td>4.539429</td>\n",
       "      <td>80.814870</td>\n",
       "      <td>3.263175e+02</td>\n",
       "      <td>1.524045e+03</td>\n",
       "      <td>1.082875e+03</td>\n",
       "      <td>1.326905e+02</td>\n",
       "      <td>1.861308</td>\n",
       "    </tr>\n",
       "    <tr>\n",
       "      <th>total_Op</th>\n",
       "      <td>4.364253e+03</td>\n",
       "      <td>527.877303</td>\n",
       "      <td>191.217881</td>\n",
       "      <td>342.278823</td>\n",
       "      <td>1.723603e+04</td>\n",
       "      <td>1.244027e+05</td>\n",
       "      <td>-3.081259</td>\n",
       "      <td>1.193182e+03</td>\n",
       "      <td>1.677491e+03</td>\n",
       "      <td>1.153513e+07</td>\n",
       "      <td>...</td>\n",
       "      <td>3.694231e+03</td>\n",
       "      <td>344.583510</td>\n",
       "      <td>511.804279</td>\n",
       "      <td>27.079482</td>\n",
       "      <td>430.833997</td>\n",
       "      <td>1.524045e+03</td>\n",
       "      <td>1.092812e+04</td>\n",
       "      <td>7.199455e+03</td>\n",
       "      <td>9.491292e+02</td>\n",
       "      <td>10.964821</td>\n",
       "    </tr>\n",
       "    <tr>\n",
       "      <th>total_Opnd</th>\n",
       "      <td>2.981471e+03</td>\n",
       "      <td>343.513491</td>\n",
       "      <td>123.801360</td>\n",
       "      <td>225.015230</td>\n",
       "      <td>1.169424e+04</td>\n",
       "      <td>8.583909e+04</td>\n",
       "      <td>-2.085079</td>\n",
       "      <td>7.944605e+02</td>\n",
       "      <td>1.212932e+03</td>\n",
       "      <td>7.746453e+06</td>\n",
       "      <td>...</td>\n",
       "      <td>2.534457e+03</td>\n",
       "      <td>232.016922</td>\n",
       "      <td>353.481748</td>\n",
       "      <td>18.391996</td>\n",
       "      <td>285.369650</td>\n",
       "      <td>1.082875e+03</td>\n",
       "      <td>7.199455e+03</td>\n",
       "      <td>5.139787e+03</td>\n",
       "      <td>6.266962e+02</td>\n",
       "      <td>7.586319</td>\n",
       "    </tr>\n",
       "    <tr>\n",
       "      <th>branchCount</th>\n",
       "      <td>6.002446e+02</td>\n",
       "      <td>110.081470</td>\n",
       "      <td>51.714132</td>\n",
       "      <td>59.656167</td>\n",
       "      <td>1.544180e+03</td>\n",
       "      <td>1.114832e+04</td>\n",
       "      <td>-0.600413</td>\n",
       "      <td>1.170595e+02</td>\n",
       "      <td>1.034191e+02</td>\n",
       "      <td>1.173126e+06</td>\n",
       "      <td>...</td>\n",
       "      <td>3.467591e+02</td>\n",
       "      <td>33.286403</td>\n",
       "      <td>43.760129</td>\n",
       "      <td>3.220526</td>\n",
       "      <td>35.878206</td>\n",
       "      <td>1.326905e+02</td>\n",
       "      <td>9.491292e+02</td>\n",
       "      <td>6.266962e+02</td>\n",
       "      <td>2.077279e+02</td>\n",
       "      <td>1.947963</td>\n",
       "    </tr>\n",
       "    <tr>\n",
       "      <th>defects</th>\n",
       "      <td>7.832493e+00</td>\n",
       "      <td>0.996263</td>\n",
       "      <td>0.503984</td>\n",
       "      <td>0.569123</td>\n",
       "      <td>1.849217e+01</td>\n",
       "      <td>1.229946e+02</td>\n",
       "      <td>-0.010612</td>\n",
       "      <td>1.430341e+00</td>\n",
       "      <td>1.995932e+00</td>\n",
       "      <td>7.608781e+03</td>\n",
       "      <td>...</td>\n",
       "      <td>4.043673e+00</td>\n",
       "      <td>0.507574</td>\n",
       "      <td>0.688905</td>\n",
       "      <td>0.055684</td>\n",
       "      <td>0.504330</td>\n",
       "      <td>1.861308e+00</td>\n",
       "      <td>1.096482e+01</td>\n",
       "      <td>7.586319e+00</td>\n",
       "      <td>1.947963e+00</td>\n",
       "      <td>0.175278</td>\n",
       "    </tr>\n",
       "  </tbody>\n",
       "</table>\n",
       "<p>22 rows × 22 columns</p>\n",
       "</div>"
      ],
      "text/plain": [
       "                            loc           v(g)          ev(g)          iv(g)  \\\n",
       "loc                2.981204e+03     328.507296     137.704468     210.421645   \n",
       "v(g)               3.285073e+02      62.423511      26.683911      34.568988   \n",
       "ev(g)              1.377045e+02      26.683911      21.448584      13.975924   \n",
       "iv(g)              2.104216e+02      34.568988      13.975924      30.631145   \n",
       "n                  7.098282e+03     853.299900     309.524495     558.593270   \n",
       "v                  5.259920e+04    6207.608687    2164.033061    4115.396184   \n",
       "l                 -2.120625e+00      -0.306270      -0.150887      -0.161559   \n",
       "d                  4.622120e+02      64.075449      23.395645      38.070184   \n",
       "i                  6.070546e+02      54.994536      16.999783      40.476870   \n",
       "e                  5.215968e+06  647718.131508  242869.478553  415868.429144   \n",
       "b                  1.704262e+01       2.039600       0.705058       1.316708   \n",
       "t                  2.758412e+05   36786.585051   12807.483696   22633.572799   \n",
       "lOCode             1.690765e+03     195.443254      68.281171     135.854080   \n",
       "lOComment          1.701700e+02      17.698578       8.000824      11.032605   \n",
       "lOBlank            2.337427e+02      23.284709       8.344121      15.048840   \n",
       "locCodeAndComment  1.343033e+01       1.644139       0.761302       0.987087   \n",
       "uniq_Op            1.352750e+02      20.793210       6.266169      14.152912   \n",
       "uniq_Opnd          6.288570e+02      75.979803      23.349591      55.050852   \n",
       "total_Op           4.364253e+03     527.877303     191.217881     342.278823   \n",
       "total_Opnd         2.981471e+03     343.513491     123.801360     225.015230   \n",
       "branchCount        6.002446e+02     110.081470      51.714132      59.656167   \n",
       "defects            7.832493e+00       0.996263       0.503984       0.569123   \n",
       "\n",
       "                              n             v            l             d  \\\n",
       "loc                7.098282e+03  5.259920e+04    -2.120625  4.622120e+02   \n",
       "v(g)               8.532999e+02  6.207609e+03    -0.306270  6.407545e+01   \n",
       "ev(g)              3.095245e+02  2.164033e+03    -0.150887  2.339565e+01   \n",
       "iv(g)              5.585933e+02  4.115396e+03    -0.161559  3.807018e+01   \n",
       "n                  2.929136e+04  2.019177e+05    -5.145332  1.953495e+03   \n",
       "v                  2.019177e+05  1.614911e+06   -32.320179  1.342522e+04   \n",
       "l                 -5.145332e+00 -3.232018e+01     0.010019 -6.025811e-01   \n",
       "d                  1.953495e+03  1.342522e+04    -0.602581  1.994113e+02   \n",
       "i                  2.837701e+03  1.955926e+04    -0.371320  1.663547e+02   \n",
       "e                  1.857612e+07  1.410272e+08 -1750.435740  1.268258e+06   \n",
       "b                  6.629561e+01  5.013725e+02    -0.010735  4.498302e+00   \n",
       "t                  1.016512e+06  7.400201e+06   -95.761192  6.879881e+04   \n",
       "lOCode             6.014145e+03  4.404347e+04    -1.117655  4.238921e+02   \n",
       "lOComment          5.721400e+02  3.990282e+03    -0.111061  4.055962e+01   \n",
       "lOBlank            8.469270e+02  5.963582e+03    -0.184524  6.095275e+01   \n",
       "locCodeAndComment  4.494809e+01  3.072682e+02    -0.012546  3.782966e+00   \n",
       "uniq_Op            7.139176e+02  4.668459e+03    -0.269863  7.460874e+01   \n",
       "uniq_Opnd          2.532041e+03  1.834094e+04    -0.512874  1.761791e+02   \n",
       "total_Op           1.723603e+04  1.244027e+05    -3.081259  1.193182e+03   \n",
       "total_Opnd         1.169424e+04  8.583909e+04    -2.085079  7.944605e+02   \n",
       "branchCount        1.544180e+03  1.114832e+04    -0.600413  1.170595e+02   \n",
       "defects            1.849217e+01  1.229946e+02    -0.010612  1.430341e+00   \n",
       "\n",
       "                              i             e  ...        lOCode  \\\n",
       "loc                6.070546e+02  5.215968e+06  ...  1.690765e+03   \n",
       "v(g)               5.499454e+01  6.477181e+05  ...  1.954433e+02   \n",
       "ev(g)              1.699978e+01  2.428695e+05  ...  6.828117e+01   \n",
       "iv(g)              4.047687e+01  4.158684e+05  ...  1.358541e+02   \n",
       "n                  2.837701e+03  1.857612e+07  ...  6.014145e+03   \n",
       "v                  1.955926e+04  1.410272e+08  ...  4.404347e+04   \n",
       "l                 -3.713196e-01 -1.750436e+03  ... -1.117655e+00   \n",
       "d                  1.663547e+02  1.268258e+06  ...  4.238921e+02   \n",
       "i                  5.224307e+02  1.246418e+06  ...  5.964661e+02   \n",
       "e                  1.246418e+06  3.631746e+10  ...  4.260645e+06   \n",
       "b                  6.570713e+00  4.943015e+04  ...  1.432744e+01   \n",
       "t                  6.784097e+04  1.500394e+09  ...  2.254504e+05   \n",
       "lOCode             5.964661e+02  4.260645e+06  ...  1.485409e+03   \n",
       "lOComment          5.879753e+01  3.700610e+05  ...  1.263889e+02   \n",
       "lOBlank            9.545642e+01  5.306403e+05  ...  1.898219e+02   \n",
       "locCodeAndComment  4.889438e+00  2.371999e+04  ...  1.010306e+01   \n",
       "uniq_Op            8.140053e+01  3.547842e+05  ...  1.610714e+02   \n",
       "uniq_Opnd          3.316871e+02  1.428119e+06  ...  5.751464e+02   \n",
       "total_Op           1.677491e+03  1.153513e+07  ...  3.694231e+03   \n",
       "total_Opnd         1.212932e+03  7.746453e+06  ...  2.534457e+03   \n",
       "branchCount        1.034191e+02  1.173126e+06  ...  3.467591e+02   \n",
       "defects            1.995932e+00  7.608781e+03  ...  4.043673e+00   \n",
       "\n",
       "                       lOComment        lOBlank  locCodeAndComment  \\\n",
       "loc                   170.170005     233.742687          13.430331   \n",
       "v(g)                   17.698578      23.284709           1.644139   \n",
       "ev(g)                   8.000824       8.344121           0.761302   \n",
       "iv(g)                  11.032605      15.048840           0.987087   \n",
       "n                     572.140018     846.927037          44.948090   \n",
       "v                    3990.281876    5963.581860         307.268173   \n",
       "l                      -0.111061      -0.184524          -0.012546   \n",
       "d                      40.559617      60.952750           3.782966   \n",
       "i                      58.797525      95.456421           4.889438   \n",
       "e                  370060.976706  530640.263844       23719.991771   \n",
       "b                       1.324153       2.002831           0.103151   \n",
       "t                   19984.178037   27827.145829        1271.792218   \n",
       "lOCode                126.388943     189.821881          10.103057   \n",
       "lOComment              34.838465      21.884886           1.505795   \n",
       "lOBlank                21.884886      40.734496           1.719658   \n",
       "locCodeAndComment       1.505795       1.719658           0.997814   \n",
       "uniq_Op                15.361202      24.137597           1.600422   \n",
       "uniq_Opnd              51.267868      80.666394           4.539429   \n",
       "total_Op              344.583510     511.804279          27.079482   \n",
       "total_Opnd            232.016922     353.481748          18.391996   \n",
       "branchCount            33.286403      43.760129           3.220526   \n",
       "defects                 0.507574       0.688905           0.055684   \n",
       "\n",
       "                         uniq_Op     uniq_Opnd      total_Op    total_Opnd  \\\n",
       "loc                   135.274980  6.288570e+02  4.364253e+03  2.981471e+03   \n",
       "v(g)                   20.793210  7.597980e+01  5.278773e+02  3.435135e+02   \n",
       "ev(g)                   6.266169  2.334959e+01  1.912179e+02  1.238014e+02   \n",
       "iv(g)                  14.152912  5.505085e+01  3.422788e+02  2.250152e+02   \n",
       "n                     713.917650  2.532041e+03  1.723603e+04  1.169424e+04   \n",
       "v                    4668.458534  1.834094e+04  1.244027e+05  8.583909e+04   \n",
       "l                      -0.269863 -5.128736e-01 -3.081259e+00 -2.085079e+00   \n",
       "d                      74.608739  1.761791e+02  1.193182e+03  7.944605e+02   \n",
       "i                      81.400527  3.316871e+02  1.677491e+03  1.212932e+03   \n",
       "e                  354784.169330  1.428119e+06  1.153513e+07  7.746453e+06   \n",
       "b                       1.534537  6.060198e+00  4.066400e+01  2.828734e+01   \n",
       "t                   20375.091738  7.911794e+04  6.215915e+05  4.114058e+05   \n",
       "lOCode                161.071431  5.751464e+02  3.694231e+03  2.534457e+03   \n",
       "lOComment              15.361202  5.126787e+01  3.445835e+02  2.320169e+02   \n",
       "lOBlank                24.137597  8.066639e+01  5.118043e+02  3.534817e+02   \n",
       "locCodeAndComment       1.600422  4.539429e+00  2.707948e+01  1.839200e+01   \n",
       "uniq_Op                45.556417  8.081487e+01  4.308340e+02  2.853696e+02   \n",
       "uniq_Opnd              80.814870  3.263175e+02  1.524045e+03  1.082875e+03   \n",
       "total_Op              430.833997  1.524045e+03  1.092812e+04  7.199455e+03   \n",
       "total_Opnd            285.369650  1.082875e+03  7.199455e+03  5.139787e+03   \n",
       "branchCount            35.878206  1.326905e+02  9.491292e+02  6.266962e+02   \n",
       "defects                 0.504330  1.861308e+00  1.096482e+01  7.586319e+00   \n",
       "\n",
       "                    branchCount      defects  \n",
       "loc                6.002446e+02     7.832493  \n",
       "v(g)               1.100815e+02     0.996263  \n",
       "ev(g)              5.171413e+01     0.503984  \n",
       "iv(g)              5.965617e+01     0.569123  \n",
       "n                  1.544180e+03    18.492169  \n",
       "v                  1.114832e+04   122.994639  \n",
       "l                 -6.004132e-01    -0.010612  \n",
       "d                  1.170595e+02     1.430341  \n",
       "i                  1.034191e+02     1.995932  \n",
       "e                  1.173126e+06  7608.780583  \n",
       "b                  3.719758e+00     0.041079  \n",
       "t                  6.495267e+04   411.234972  \n",
       "lOCode             3.467591e+02     4.043673  \n",
       "lOComment          3.328640e+01     0.507574  \n",
       "lOBlank            4.376013e+01     0.688905  \n",
       "locCodeAndComment  3.220526e+00     0.055684  \n",
       "uniq_Op            3.587821e+01     0.504330  \n",
       "uniq_Opnd          1.326905e+02     1.861308  \n",
       "total_Op           9.491292e+02    10.964821  \n",
       "total_Opnd         6.266962e+02     7.586319  \n",
       "branchCount        2.077279e+02     1.947963  \n",
       "defects            1.947963e+00     0.175278  \n",
       "\n",
       "[22 rows x 22 columns]"
      ]
     },
     "execution_count": 10,
     "metadata": {},
     "output_type": "execute_result"
    }
   ],
   "source": [
    "train.cov()"
   ]
  },
  {
   "cell_type": "markdown",
   "id": "86f2f5e7",
   "metadata": {
    "papermill": {
     "duration": 0.014114,
     "end_time": "2023-10-15T06:30:35.878685",
     "exception": false,
     "start_time": "2023-10-15T06:30:35.864571",
     "status": "completed"
    },
    "tags": []
   },
   "source": [
    "Next, let's check the distribution of variables."
   ]
  },
  {
   "cell_type": "code",
   "execution_count": 11,
   "id": "66703fdc",
   "metadata": {
    "execution": {
     "iopub.execute_input": "2023-10-15T06:30:35.910511Z",
     "iopub.status.busy": "2023-10-15T06:30:35.910118Z",
     "iopub.status.idle": "2023-10-15T06:30:36.575738Z",
     "shell.execute_reply": "2023-10-15T06:30:36.574645Z"
    },
    "papermill": {
     "duration": 0.687796,
     "end_time": "2023-10-15T06:30:36.581730",
     "exception": false,
     "start_time": "2023-10-15T06:30:35.893934",
     "status": "completed"
    },
    "tags": []
   },
   "outputs": [
    {
     "data": {
      "image/png": "[encoded data removed]",
      "text/plain": [
       "<Figure size 640x480 with 2 Axes>"
      ]
     },
     "metadata": {},
     "output_type": "display_data"
    }
   ],
   "source": [
    "sns.heatmap(train.corr())\n",
    "plt.show()"
   ]
  },
  {
   "cell_type": "markdown",
   "id": "fc4d2360",
   "metadata": {
    "papermill": {
     "duration": 0.018843,
     "end_time": "2023-10-15T06:30:36.619416",
     "exception": false,
     "start_time": "2023-10-15T06:30:36.600573",
     "status": "completed"
    },
    "tags": []
   },
   "source": [
    "And distribution of every variables"
   ]
  },
  {
   "cell_type": "code",
   "execution_count": 12,
   "id": "89e304af",
   "metadata": {
    "execution": {
     "iopub.execute_input": "2023-10-15T06:30:36.652024Z",
     "iopub.status.busy": "2023-10-15T06:30:36.651688Z",
     "iopub.status.idle": "2023-10-15T06:30:36.658545Z",
     "shell.execute_reply": "2023-10-15T06:30:36.657447Z"
    },
    "papermill": {
     "duration": 0.026272,
     "end_time": "2023-10-15T06:30:36.661004",
     "exception": false,
     "start_time": "2023-10-15T06:30:36.634732",
     "status": "completed"
    },
    "tags": []
   },
   "outputs": [],
   "source": [
    "def plot_distribution(df):\n",
    "    _, axis = plt.subplots(7, 3, figsize=(12, 12))\n",
    "    \n",
    "    for col, ax in zip(df.columns, axis.ravel()):\n",
    "        if df[col].dtype == float:\n",
    "            ax.hist(df[col], bins=100, color=\"orange\")\n",
    "        else:\n",
    "            vc = df[col].value_counts()\n",
    "            ax.bar(vc.index, vc, color=\"orange\")\n",
    "        ax.set_xlabel(col)\n",
    "    \n",
    "    plt.tight_layout()\n",
    "    plt.suptitle(\"Feature distributions\", y=1.02, fontsize=20)\n",
    "    plt.show()"
   ]
  },
  {
   "cell_type": "code",
   "execution_count": 13,
   "id": "f7d5b96b",
   "metadata": {
    "execution": {
     "iopub.execute_input": "2023-10-15T06:30:36.694768Z",
     "iopub.status.busy": "2023-10-15T06:30:36.693967Z",
     "iopub.status.idle": "2023-10-15T06:30:42.631220Z",
     "shell.execute_reply": "2023-10-15T06:30:42.629972Z"
    },
    "papermill": {
     "duration": 5.956753,
     "end_time": "2023-10-15T06:30:42.633430",
     "exception": false,
     "start_time": "2023-10-15T06:30:36.676677",
     "status": "completed"
    },
    "tags": []
   },
   "outputs": [
    {
     "data": {
      "image/png": "[encoded data removed]",
      "text/plain": [
       "<Figure size 1200x1200 with 21 Axes>"
      ]
     },
     "metadata": {},
     "output_type": "display_data"
    }
   ],
   "source": [
    "plot_distribution(train)"
   ]
  },
  {
   "cell_type": "markdown",
   "id": "b2931780",
   "metadata": {
    "papermill": {
     "duration": 0.017226,
     "end_time": "2023-10-15T06:30:42.668300",
     "exception": false,
     "start_time": "2023-10-15T06:30:42.651074",
     "status": "completed"
    },
    "tags": []
   },
   "source": [
    "## Building training pipeline"
   ]
  },
  {
   "cell_type": "code",
   "execution_count": 14,
   "id": "27966129",
   "metadata": {
    "execution": {
     "iopub.execute_input": "2023-10-15T06:30:42.704616Z",
     "iopub.status.busy": "2023-10-15T06:30:42.703847Z",
     "iopub.status.idle": "2023-10-15T06:30:42.707954Z",
     "shell.execute_reply": "2023-10-15T06:30:42.707190Z"
    },
    "papermill": {
     "duration": 0.024634,
     "end_time": "2023-10-15T06:30:42.710038",
     "exception": false,
     "start_time": "2023-10-15T06:30:42.685404",
     "status": "completed"
    },
    "tags": []
   },
   "outputs": [],
   "source": [
    "transform = FunctionTransformer(np.log1p)"
   ]
  },
  {
   "cell_type": "code",
   "execution_count": 15,
   "id": "00b3cae7",
   "metadata": {
    "execution": {
     "iopub.execute_input": "2023-10-15T06:30:42.747729Z",
     "iopub.status.busy": "2023-10-15T06:30:42.747347Z",
     "iopub.status.idle": "2023-10-15T06:30:42.752246Z",
     "shell.execute_reply": "2023-10-15T06:30:42.751049Z"
    },
    "papermill": {
     "duration": 0.026543,
     "end_time": "2023-10-15T06:30:42.754841",
     "exception": false,
     "start_time": "2023-10-15T06:30:42.728298",
     "status": "completed"
    },
    "tags": []
   },
   "outputs": [],
   "source": [
    "estimators = [\n",
    "#     (\"logistic\", LogisticRegression(solver=\"liblinear\", penalty=\"l2\")),\n",
    "    # (\"lasso\", LogisticRegression(solver=\"liblinear\", penalty=\"l1\")),\n",
    "#     (\"elasticnet\", SGDClassifier(loss=\"log_loss\", penalty=\"elasticnet\")),\n",
    "#     (\"random_forest\", RandomForestClassifier()),\n",
    "#     (\"gradient_boosting\", GradientBoostingClassifier()),\n",
    "    (\"extra_tree\", ExtraTreesClassifier()),\n",
    "    # (\"svc\", SVC(kernel=\"linear\", probability=True)),\n",
    "#     (\"deep_nn\", MLPClassifier()),\n",
    "]"
   ]
  },
  {
   "cell_type": "code",
   "execution_count": 16,
   "id": "b6070eb7",
   "metadata": {
    "execution": {
     "iopub.execute_input": "2023-10-15T06:30:42.791450Z",
     "iopub.status.busy": "2023-10-15T06:30:42.791086Z",
     "iopub.status.idle": "2023-10-15T06:30:42.802999Z",
     "shell.execute_reply": "2023-10-15T06:30:42.801809Z"
    },
    "papermill": {
     "duration": 0.033555,
     "end_time": "2023-10-15T06:30:42.805442",
     "exception": false,
     "start_time": "2023-10-15T06:30:42.771887",
     "status": "completed"
    },
    "tags": []
   },
   "outputs": [],
   "source": [
    "X = train.drop([\"defects\"], axis=1)\n",
    "y = train[\"defects\"]"
   ]
  },
  {
   "cell_type": "markdown",
   "id": "b78c0782",
   "metadata": {
    "papermill": {
     "duration": 0.017637,
     "end_time": "2023-10-15T06:30:42.840733",
     "exception": false,
     "start_time": "2023-10-15T06:30:42.823096",
     "status": "completed"
    },
    "tags": []
   },
   "source": [
    "Define pipelines and training "
   ]
  },
  {
   "cell_type": "code",
   "execution_count": 17,
   "id": "4fed412d",
   "metadata": {
    "execution": {
     "iopub.execute_input": "2023-10-15T06:30:42.878179Z",
     "iopub.status.busy": "2023-10-15T06:30:42.877780Z",
     "iopub.status.idle": "2023-10-15T06:31:29.675280Z",
     "shell.execute_reply": "2023-10-15T06:31:29.674023Z"
    },
    "papermill": {
     "duration": 46.818895,
     "end_time": "2023-10-15T06:31:29.677796",
     "exception": false,
     "start_time": "2023-10-15T06:30:42.858901",
     "status": "completed"
    },
    "tags": []
   },
   "outputs": [
    {
     "name": "stdout",
     "output_type": "stream",
     "text": [
      "Fitting extra_tree\n"
     ]
    }
   ],
   "source": [
    "pipes = {}\n",
    "\n",
    "for model in estimators:\n",
    "    print(f\"Fitting {model[0]}\")\n",
    "    \n",
    "    pipe = Pipeline(steps=[\n",
    "        (\"transform\", transform),\n",
    "        (\"poly_features\", PolynomialFeatures(2, include_bias=False)),\n",
    "        (\"std_scaler\", StandardScaler()),\n",
    "        model\n",
    "    ])\n",
    "    pipe.fit(X, y)\n",
    "    pipes[pipe.steps[3][0]] = pipe"
   ]
  },
  {
   "cell_type": "markdown",
   "id": "20f7c294",
   "metadata": {
    "papermill": {
     "duration": 0.016654,
     "end_time": "2023-10-15T06:31:29.711888",
     "exception": false,
     "start_time": "2023-10-15T06:31:29.695234",
     "status": "completed"
    },
    "tags": []
   },
   "source": [
    "Plotting AUC score for the training"
   ]
  },
  {
   "cell_type": "code",
   "execution_count": 18,
   "id": "1aaad967",
   "metadata": {
    "execution": {
     "iopub.execute_input": "2023-10-15T06:31:29.748829Z",
     "iopub.status.busy": "2023-10-15T06:31:29.748424Z",
     "iopub.status.idle": "2023-10-15T06:31:29.753114Z",
     "shell.execute_reply": "2023-10-15T06:31:29.751968Z"
    },
    "papermill": {
     "duration": 0.026591,
     "end_time": "2023-10-15T06:31:29.755149",
     "exception": false,
     "start_time": "2023-10-15T06:31:29.728558",
     "status": "completed"
    },
    "tags": []
   },
   "outputs": [],
   "source": [
    "_metrics = {\n",
    "    \"auc\": make_scorer(roc_auc_score, needs_proba=True),\n",
    "    \"log_loss\": make_scorer(log_loss)\n",
    "}"
   ]
  },
  {
   "cell_type": "code",
   "execution_count": 19,
   "id": "8faeee51",
   "metadata": {
    "execution": {
     "iopub.execute_input": "2023-10-15T06:31:29.790770Z",
     "iopub.status.busy": "2023-10-15T06:31:29.790379Z",
     "iopub.status.idle": "2023-10-15T06:31:29.795246Z",
     "shell.execute_reply": "2023-10-15T06:31:29.794024Z"
    },
    "papermill": {
     "duration": 0.025245,
     "end_time": "2023-10-15T06:31:29.797646",
     "exception": false,
     "start_time": "2023-10-15T06:31:29.772401",
     "status": "completed"
    },
    "tags": []
   },
   "outputs": [],
   "source": [
    "estimator_names = [model[0] for model in estimators]"
   ]
  },
  {
   "cell_type": "code",
   "execution_count": 20,
   "id": "9d59203e",
   "metadata": {
    "execution": {
     "iopub.execute_input": "2023-10-15T06:31:29.833861Z",
     "iopub.status.busy": "2023-10-15T06:31:29.833381Z",
     "iopub.status.idle": "2023-10-15T06:31:29.841633Z",
     "shell.execute_reply": "2023-10-15T06:31:29.840443Z"
    },
    "papermill": {
     "duration": 0.02926,
     "end_time": "2023-10-15T06:31:29.843747",
     "exception": false,
     "start_time": "2023-10-15T06:31:29.814487",
     "status": "completed"
    },
    "tags": []
   },
   "outputs": [],
   "source": [
    "def plot_estimators(estimators=estimator_names, \n",
    "                   n_splits=5,\n",
    "                   metrics=[\"auc\", \"log_loss\"]):\n",
    "    metrics = {\n",
    "        key: _metrics[key] for key in metrics\n",
    "    }\n",
    "    \n",
    "    scorer, labels = [], []\n",
    "    \n",
    "    for pipe_name in pipes.keys():\n",
    "        if pipe_name in estimators:\n",
    "            pipe = pipes[pipe_name]\n",
    "            \n",
    "            print(pipe)\n",
    "            \n",
    "            labels.append(pipe_name)\n",
    "            \n",
    "            kf = KFold(n_splits)\n",
    "            \n",
    "            model_score = cross_validate(pipe, X, y, scoring=metrics, cv=kf, n_jobs=4)\n",
    "            \n",
    "            scorer.append(model_score)\n",
    "    \n",
    "    score_lists = {}\n",
    "    \n",
    "    for metric in metrics:\n",
    "        score_lists[metric] = [score[f\"test_{metric}\"] for score in scorer]\n",
    "        \n",
    "    for i, (title, _list) in enumerate(score_lists.items()):\n",
    "        plt.figure(i)\n",
    "        plot = sns.boxplot(data=_list).set_xticklabels(labels, rotation=45)\n",
    "        plt.title(title)"
   ]
  },
  {
   "cell_type": "code",
   "execution_count": 21,
   "id": "91def42e",
   "metadata": {
    "execution": {
     "iopub.execute_input": "2023-10-15T06:31:29.878907Z",
     "iopub.status.busy": "2023-10-15T06:31:29.878572Z",
     "iopub.status.idle": "2023-10-15T06:31:29.882578Z",
     "shell.execute_reply": "2023-10-15T06:31:29.881785Z"
    },
    "papermill": {
     "duration": 0.023631,
     "end_time": "2023-10-15T06:31:29.884285",
     "exception": false,
     "start_time": "2023-10-15T06:31:29.860654",
     "status": "completed"
    },
    "tags": []
   },
   "outputs": [],
   "source": [
    "metrics = {\n",
    "    \"auc\": make_scorer(roc_auc_score, needs_proba=True),\n",
    "    \"log_loss\": make_scorer(log_loss)\n",
    "}"
   ]
  },
  {
   "cell_type": "code",
   "execution_count": 22,
   "id": "2461e300",
   "metadata": {
    "execution": {
     "iopub.execute_input": "2023-10-15T06:31:29.920200Z",
     "iopub.status.busy": "2023-10-15T06:31:29.919845Z",
     "iopub.status.idle": "2023-10-15T06:33:13.150073Z",
     "shell.execute_reply": "2023-10-15T06:33:13.148945Z"
    },
    "papermill": {
     "duration": 103.251116,
     "end_time": "2023-10-15T06:33:13.152255",
     "exception": false,
     "start_time": "2023-10-15T06:31:29.901139",
     "status": "completed"
    },
    "scrolled": true,
    "tags": []
   },
   "outputs": [
    {
     "name": "stdout",
     "output_type": "stream",
     "text": [
      "Pipeline(steps=[('transform', FunctionTransformer(func=<ufunc 'log1p'>)),\n",
      "                ('poly_features', PolynomialFeatures(include_bias=False)),\n",
      "                ('std_scaler', StandardScaler()),\n",
      "                ('extra_tree', ExtraTreesClassifier())])\n"
     ]
    },
    {
     "data": {
      "image/png": "[encoded data removed]",
      "text/plain": [
       "<Figure size 640x480 with 1 Axes>"
      ]
     },
     "metadata": {},
     "output_type": "display_data"
    },
    {
     "data": {
      "image/png": "[encoded data removed]",
      "text/plain": [
       "<Figure size 640x480 with 1 Axes>"
      ]
     },
     "metadata": {},
     "output_type": "display_data"
    }
   ],
   "source": [
    "plot_estimators()"
   ]
  },
  {
   "cell_type": "markdown",
   "id": "e5c01be5",
   "metadata": {
    "papermill": {
     "duration": 0.01744,
     "end_time": "2023-10-15T06:33:13.187253",
     "exception": false,
     "start_time": "2023-10-15T06:33:13.169813",
     "status": "completed"
    },
    "tags": []
   },
   "source": [
    "## Hyperparam tuning"
   ]
  },
  {
   "cell_type": "code",
   "execution_count": 23,
   "id": "99450717",
   "metadata": {
    "execution": {
     "iopub.execute_input": "2023-10-15T06:33:13.224666Z",
     "iopub.status.busy": "2023-10-15T06:33:13.224251Z",
     "iopub.status.idle": "2023-10-15T06:33:13.235043Z",
     "shell.execute_reply": "2023-10-15T06:33:13.234032Z"
    },
    "papermill": {
     "duration": 0.032795,
     "end_time": "2023-10-15T06:33:13.237453",
     "exception": false,
     "start_time": "2023-10-15T06:33:13.204658",
     "status": "completed"
    },
    "tags": []
   },
   "outputs": [],
   "source": [
    "def tune_param(model, param_grid, refit=\"auc\", chart=None, X=X, y=y, cv=5):\n",
    "    param_grid = {\n",
    "        f\"{model}__{key}\" : param_grid[key]\n",
    "        for key in param_grid.keys()\n",
    "    }\n",
    "    \n",
    "    grid_cv = GridSearchCV(\n",
    "        pipes[model],\n",
    "        param_grid,\n",
    "        scoring=metrics,\n",
    "        refit=refit,\n",
    "        return_train_score=True,\n",
    "        cv=cv,\n",
    "        n_jobs=4,\n",
    "        verbose=3\n",
    "    )\n",
    "    \n",
    "    grid_cv.fit(X, y)\n",
    "    \n",
    "    print(f\"Best score: { grid_cv.best_score_ }\")\n",
    "    print(f\"Best params: { grid_cv.best_params_ }\")\n",
    "    \n",
    "    results = pd.DataFrame(grid_cv.cv_results_)\n",
    "    \n",
    "    if \"line\" in chart:\n",
    "        for i, param in enumerate(param_grid.keys()):\n",
    "            graph_data = results[[\n",
    "                f\"param_{param}\",\n",
    "                f\"mean_test_{refit}\",\n",
    "                f\"mean_train_{refit}\"\n",
    "            ]]\n",
    "            \n",
    "            graph_data = graph_data.rename(columns = {\n",
    "                f\"mean_test_{refit}\" : \"test\",\n",
    "                f\"mean_train_{refit}\" : \"train\",\n",
    "            })\n",
    "            \n",
    "            graph_data = graph_data.melt(f\"param_{param}\", var_name=\"type\", value_name=refit)\n",
    "            plt.figure(i)\n",
    "            plot = sns.lineplot(x=f\"param_{param}\", y=refit, hue=\"type\", data=graph_data)\n",
    "    \n",
    "    if \"heatmap\" in chart:\n",
    "        param1 = list(param_grid.keys())[0]\n",
    "        param2 = list(param_grid.keys())[1]\n",
    "        \n",
    "        graph_data = results[[\n",
    "            f\"param_{param1}\",\n",
    "            f\"param_{param2}\",\n",
    "            f\"mean_test_{refit}\"\n",
    "        ]]\n",
    "        \n",
    "        graph_data = graph_data.pivot(index=f\"param_{param1}\", \n",
    "                                      columns=f\"param_{param2}\", \n",
    "                                     values=f\"mean_test_{refit}\")\n",
    "        \n",
    "        sns.heatmap(graph_data, annot=True, xticklabels=True, yticklabels=True).set(\n",
    "            xlabel=param2,\n",
    "            ylabel=param1\n",
    "        )"
   ]
  },
  {
   "cell_type": "markdown",
   "id": "b5e0fa4c",
   "metadata": {
    "papermill": {
     "duration": 0.01728,
     "end_time": "2023-10-15T06:33:13.272748",
     "exception": false,
     "start_time": "2023-10-15T06:33:13.255468",
     "status": "completed"
    },
    "tags": []
   },
   "source": [
    "### Tuning Random Forest"
   ]
  },
  {
   "cell_type": "code",
   "execution_count": 24,
   "id": "7b4dda41",
   "metadata": {
    "execution": {
     "iopub.execute_input": "2023-10-15T06:33:13.311083Z",
     "iopub.status.busy": "2023-10-15T06:33:13.310538Z",
     "iopub.status.idle": "2023-10-15T06:33:13.313933Z",
     "shell.execute_reply": "2023-10-15T06:33:13.313255Z"
    },
    "papermill": {
     "duration": 0.024894,
     "end_time": "2023-10-15T06:33:13.315724",
     "exception": false,
     "start_time": "2023-10-15T06:33:13.290830",
     "status": "completed"
    },
    "tags": []
   },
   "outputs": [],
   "source": [
    "# pipes['random_forest'].named_steps['random_forest'].get_params()"
   ]
  },
  {
   "cell_type": "code",
   "execution_count": 25,
   "id": "1235a17d",
   "metadata": {
    "execution": {
     "iopub.execute_input": "2023-10-15T06:33:13.352124Z",
     "iopub.status.busy": "2023-10-15T06:33:13.351572Z",
     "iopub.status.idle": "2023-10-15T06:33:13.354847Z",
     "shell.execute_reply": "2023-10-15T06:33:13.354154Z"
    },
    "papermill": {
     "duration": 0.023848,
     "end_time": "2023-10-15T06:33:13.356719",
     "exception": false,
     "start_time": "2023-10-15T06:33:13.332871",
     "status": "completed"
    },
    "tags": []
   },
   "outputs": [],
   "source": [
    "# param_grid = {'n_estimators': [100, 200, 300, 400, 500]}\n",
    "# tune_param('random_forest',param_grid,chart='line')"
   ]
  },
  {
   "cell_type": "code",
   "execution_count": 26,
   "id": "c1030f8b",
   "metadata": {
    "execution": {
     "iopub.execute_input": "2023-10-15T06:33:13.393585Z",
     "iopub.status.busy": "2023-10-15T06:33:13.393207Z",
     "iopub.status.idle": "2023-10-15T06:33:13.397587Z",
     "shell.execute_reply": "2023-10-15T06:33:13.396542Z"
    },
    "papermill": {
     "duration": 0.025537,
     "end_time": "2023-10-15T06:33:13.399637",
     "exception": false,
     "start_time": "2023-10-15T06:33:13.374100",
     "status": "completed"
    },
    "tags": []
   },
   "outputs": [],
   "source": [
    "# Set n_estimator variable\n"
   ]
  },
  {
   "cell_type": "code",
   "execution_count": 27,
   "id": "e19c64ad",
   "metadata": {
    "execution": {
     "iopub.execute_input": "2023-10-15T06:33:13.436023Z",
     "iopub.status.busy": "2023-10-15T06:33:13.435687Z",
     "iopub.status.idle": "2023-10-15T06:33:13.439329Z",
     "shell.execute_reply": "2023-10-15T06:33:13.438539Z"
    },
    "papermill": {
     "duration": 0.02416,
     "end_time": "2023-10-15T06:33:13.441211",
     "exception": false,
     "start_time": "2023-10-15T06:33:13.417051",
     "status": "completed"
    },
    "tags": []
   },
   "outputs": [],
   "source": [
    "# param_grid = {'max_depth': [3, 8, 13, 18]}\n",
    "# tune_param('random_forest', param_grid, chart='line')"
   ]
  },
  {
   "cell_type": "code",
   "execution_count": 28,
   "id": "6ee6a222",
   "metadata": {
    "execution": {
     "iopub.execute_input": "2023-10-15T06:33:13.479104Z",
     "iopub.status.busy": "2023-10-15T06:33:13.478538Z",
     "iopub.status.idle": "2023-10-15T06:33:13.482286Z",
     "shell.execute_reply": "2023-10-15T06:33:13.481419Z"
    },
    "papermill": {
     "duration": 0.025366,
     "end_time": "2023-10-15T06:33:13.484300",
     "exception": false,
     "start_time": "2023-10-15T06:33:13.458934",
     "status": "completed"
    },
    "tags": []
   },
   "outputs": [],
   "source": [
    "# Set max_depth variable\n"
   ]
  },
  {
   "cell_type": "code",
   "execution_count": 29,
   "id": "920fba84",
   "metadata": {
    "execution": {
     "iopub.execute_input": "2023-10-15T06:33:13.521006Z",
     "iopub.status.busy": "2023-10-15T06:33:13.520654Z",
     "iopub.status.idle": "2023-10-15T06:33:13.524539Z",
     "shell.execute_reply": "2023-10-15T06:33:13.523537Z"
    },
    "papermill": {
     "duration": 0.024792,
     "end_time": "2023-10-15T06:33:13.526611",
     "exception": false,
     "start_time": "2023-10-15T06:33:13.501819",
     "status": "completed"
    },
    "tags": []
   },
   "outputs": [],
   "source": [
    "# param_grid = {'max_leaf_nodes': [5, 10, 15, 20, 25]}\n",
    "# tune_param('random_forest', param_grid, chart='line')"
   ]
  },
  {
   "cell_type": "code",
   "execution_count": 30,
   "id": "4c1831eb",
   "metadata": {
    "execution": {
     "iopub.execute_input": "2023-10-15T06:33:13.565049Z",
     "iopub.status.busy": "2023-10-15T06:33:13.563895Z",
     "iopub.status.idle": "2023-10-15T06:33:13.568914Z",
     "shell.execute_reply": "2023-10-15T06:33:13.568151Z"
    },
    "papermill": {
     "duration": 0.02638,
     "end_time": "2023-10-15T06:33:13.570906",
     "exception": false,
     "start_time": "2023-10-15T06:33:13.544526",
     "status": "completed"
    },
    "tags": []
   },
   "outputs": [],
   "source": [
    "# Set max_leaf_nodes variable"
   ]
  },
  {
   "cell_type": "markdown",
   "id": "0a8c7eb6",
   "metadata": {
    "papermill": {
     "duration": 0.017301,
     "end_time": "2023-10-15T06:33:13.606246",
     "exception": false,
     "start_time": "2023-10-15T06:33:13.588945",
     "status": "completed"
    },
    "tags": []
   },
   "source": [
    "### Tuning Gradient Boosting"
   ]
  },
  {
   "cell_type": "code",
   "execution_count": 31,
   "id": "7a51c5fc",
   "metadata": {
    "execution": {
     "iopub.execute_input": "2023-10-15T06:33:13.643053Z",
     "iopub.status.busy": "2023-10-15T06:33:13.642380Z",
     "iopub.status.idle": "2023-10-15T06:33:13.646756Z",
     "shell.execute_reply": "2023-10-15T06:33:13.646006Z"
    },
    "papermill": {
     "duration": 0.025122,
     "end_time": "2023-10-15T06:33:13.648814",
     "exception": false,
     "start_time": "2023-10-15T06:33:13.623692",
     "status": "completed"
    },
    "tags": []
   },
   "outputs": [],
   "source": [
    "# pipes['gradient_boosting'].named_steps['gradient_boosting'].get_params()"
   ]
  },
  {
   "cell_type": "code",
   "execution_count": 32,
   "id": "e5d242e3",
   "metadata": {
    "execution": {
     "iopub.execute_input": "2023-10-15T06:33:13.685591Z",
     "iopub.status.busy": "2023-10-15T06:33:13.684922Z",
     "iopub.status.idle": "2023-10-15T06:33:13.689184Z",
     "shell.execute_reply": "2023-10-15T06:33:13.688452Z"
    },
    "papermill": {
     "duration": 0.024957,
     "end_time": "2023-10-15T06:33:13.691217",
     "exception": false,
     "start_time": "2023-10-15T06:33:13.666260",
     "status": "completed"
    },
    "tags": []
   },
   "outputs": [],
   "source": [
    "# param_grid = {'n_estimators': [1, 2, 4, 8, 16, 32, 64, 100, 200]}\n",
    "# tune_param('gradient_boosting', param_grid, chart='line')"
   ]
  },
  {
   "cell_type": "code",
   "execution_count": 33,
   "id": "46b3b4f6",
   "metadata": {
    "execution": {
     "iopub.execute_input": "2023-10-15T06:33:13.728071Z",
     "iopub.status.busy": "2023-10-15T06:33:13.727511Z",
     "iopub.status.idle": "2023-10-15T06:33:13.731466Z",
     "shell.execute_reply": "2023-10-15T06:33:13.730767Z"
    },
    "papermill": {
     "duration": 0.0246,
     "end_time": "2023-10-15T06:33:13.733300",
     "exception": false,
     "start_time": "2023-10-15T06:33:13.708700",
     "status": "completed"
    },
    "tags": []
   },
   "outputs": [],
   "source": [
    "# Set n_estimators"
   ]
  },
  {
   "cell_type": "code",
   "execution_count": 34,
   "id": "e3f54b59",
   "metadata": {
    "execution": {
     "iopub.execute_input": "2023-10-15T06:33:13.770160Z",
     "iopub.status.busy": "2023-10-15T06:33:13.769595Z",
     "iopub.status.idle": "2023-10-15T06:33:13.773495Z",
     "shell.execute_reply": "2023-10-15T06:33:13.772804Z"
    },
    "papermill": {
     "duration": 0.024648,
     "end_time": "2023-10-15T06:33:13.775375",
     "exception": false,
     "start_time": "2023-10-15T06:33:13.750727",
     "status": "completed"
    },
    "tags": []
   },
   "outputs": [],
   "source": [
    "# param_grid = {'learning_rate': [1, 0.5, 0.25, 0.1, 0.05, 0.01]}\n",
    "# tune_param('gradient_boosting', param_grid, chart='line')"
   ]
  },
  {
   "cell_type": "code",
   "execution_count": null,
   "id": "64370529",
   "metadata": {
    "papermill": {
     "duration": 0.017704,
     "end_time": "2023-10-15T06:33:13.811425",
     "exception": false,
     "start_time": "2023-10-15T06:33:13.793721",
     "status": "completed"
    },
    "tags": []
   },
   "outputs": [],
   "source": []
  },
  {
   "cell_type": "markdown",
   "id": "b50d0048",
   "metadata": {
    "papermill": {
     "duration": 0.017474,
     "end_time": "2023-10-15T06:33:13.846685",
     "exception": false,
     "start_time": "2023-10-15T06:33:13.829211",
     "status": "completed"
    },
    "tags": []
   },
   "source": [
    "### Tuning ExtraTreesClassifier"
   ]
  },
  {
   "cell_type": "code",
   "execution_count": 35,
   "id": "b079aa3f",
   "metadata": {
    "execution": {
     "iopub.execute_input": "2023-10-15T06:33:13.884208Z",
     "iopub.status.busy": "2023-10-15T06:33:13.883602Z",
     "iopub.status.idle": "2023-10-15T06:33:13.889401Z",
     "shell.execute_reply": "2023-10-15T06:33:13.888670Z"
    },
    "papermill": {
     "duration": 0.026824,
     "end_time": "2023-10-15T06:33:13.891284",
     "exception": false,
     "start_time": "2023-10-15T06:33:13.864460",
     "status": "completed"
    },
    "tags": []
   },
   "outputs": [
    {
     "data": {
      "text/plain": [
       "{'bootstrap': False,\n",
       " 'ccp_alpha': 0.0,\n",
       " 'class_weight': None,\n",
       " 'criterion': 'gini',\n",
       " 'max_depth': None,\n",
       " 'max_features': 'sqrt',\n",
       " 'max_leaf_nodes': None,\n",
       " 'max_samples': None,\n",
       " 'min_impurity_decrease': 0.0,\n",
       " 'min_samples_leaf': 1,\n",
       " 'min_samples_split': 2,\n",
       " 'min_weight_fraction_leaf': 0.0,\n",
       " 'n_estimators': 100,\n",
       " 'n_jobs': None,\n",
       " 'oob_score': False,\n",
       " 'random_state': None,\n",
       " 'verbose': 0,\n",
       " 'warm_start': False}"
      ]
     },
     "execution_count": 35,
     "metadata": {},
     "output_type": "execute_result"
    }
   ],
   "source": [
    "pipes['extra_tree'].named_steps['extra_tree'].get_params()"
   ]
  },
  {
   "cell_type": "code",
   "execution_count": 36,
   "id": "d9348436",
   "metadata": {
    "execution": {
     "iopub.execute_input": "2023-10-15T06:33:13.929610Z",
     "iopub.status.busy": "2023-10-15T06:33:13.928977Z",
     "iopub.status.idle": "2023-10-15T06:33:13.944193Z",
     "shell.execute_reply": "2023-10-15T06:33:13.943516Z"
    },
    "papermill": {
     "duration": 0.036784,
     "end_time": "2023-10-15T06:33:13.946165",
     "exception": false,
     "start_time": "2023-10-15T06:33:13.909381",
     "status": "completed"
    },
    "tags": []
   },
   "outputs": [
    {
     "data": {
      "text/html": [
       "<style>#sk-container-id-1 {color: black;background-color: white;}#sk-container-id-1 pre{padding: 0;}#sk-container-id-1 div.sk-toggleable {background-color: white;}#sk-container-id-1 label.sk-toggleable__label {cursor: pointer;display: block;width: 100%;margin-bottom: 0;padding: 0.3em;box-sizing: border-box;text-align: center;}#sk-container-id-1 label.sk-toggleable__label-arrow:before {content: \"▸\";float: left;margin-right: 0.25em;color: #696969;}#sk-container-id-1 label.sk-toggleable__label-arrow:hover:before {color: black;}#sk-container-id-1 div.sk-estimator:hover label.sk-toggleable__label-arrow:before {color: black;}#sk-container-id-1 div.sk-toggleable__content {max-height: 0;max-width: 0;overflow: hidden;text-align: left;background-color: #f0f8ff;}#sk-container-id-1 div.sk-toggleable__content pre {margin: 0.2em;color: black;border-radius: 0.25em;background-color: #f0f8ff;}#sk-container-id-1 input.sk-toggleable__control:checked~div.sk-toggleable__content {max-height: 200px;max-width: 100%;overflow: auto;}#sk-container-id-1 input.sk-toggleable__control:checked~label.sk-toggleable__label-arrow:before {content: \"▾\";}#sk-container-id-1 div.sk-estimator input.sk-toggleable__control:checked~label.sk-toggleable__label {background-color: #d4ebff;}#sk-container-id-1 div.sk-label input.sk-toggleable__control:checked~label.sk-toggleable__label {background-color: #d4ebff;}#sk-container-id-1 input.sk-hidden--visually {border: 0;clip: rect(1px 1px 1px 1px);clip: rect(1px, 1px, 1px, 1px);height: 1px;margin: -1px;overflow: hidden;padding: 0;position: absolute;width: 1px;}#sk-container-id-1 div.sk-estimator {font-family: monospace;background-color: #f0f8ff;border: 1px dotted black;border-radius: 0.25em;box-sizing: border-box;margin-bottom: 0.5em;}#sk-container-id-1 div.sk-estimator:hover {background-color: #d4ebff;}#sk-container-id-1 div.sk-parallel-item::after {content: \"\";width: 100%;border-bottom: 1px solid gray;flex-grow: 1;}#sk-container-id-1 div.sk-label:hover label.sk-toggleable__label {background-color: #d4ebff;}#sk-container-id-1 div.sk-serial::before {content: \"\";position: absolute;border-left: 1px solid gray;box-sizing: border-box;top: 0;bottom: 0;left: 50%;z-index: 0;}#sk-container-id-1 div.sk-serial {display: flex;flex-direction: column;align-items: center;background-color: white;padding-right: 0.2em;padding-left: 0.2em;position: relative;}#sk-container-id-1 div.sk-item {position: relative;z-index: 1;}#sk-container-id-1 div.sk-parallel {display: flex;align-items: stretch;justify-content: center;background-color: white;position: relative;}#sk-container-id-1 div.sk-item::before, #sk-container-id-1 div.sk-parallel-item::before {content: \"\";position: absolute;border-left: 1px solid gray;box-sizing: border-box;top: 0;bottom: 0;left: 50%;z-index: -1;}#sk-container-id-1 div.sk-parallel-item {display: flex;flex-direction: column;z-index: 1;position: relative;background-color: white;}#sk-container-id-1 div.sk-parallel-item:first-child::after {align-self: flex-end;width: 50%;}#sk-container-id-1 div.sk-parallel-item:last-child::after {align-self: flex-start;width: 50%;}#sk-container-id-1 div.sk-parallel-item:only-child::after {width: 0;}#sk-container-id-1 div.sk-dashed-wrapped {border: 1px dashed gray;margin: 0 0.4em 0.5em 0.4em;box-sizing: border-box;padding-bottom: 0.4em;background-color: white;}#sk-container-id-1 div.sk-label label {font-family: monospace;font-weight: bold;display: inline-block;line-height: 1.2em;}#sk-container-id-1 div.sk-label-container {text-align: center;}#sk-container-id-1 div.sk-container {/* jupyter's `normalize.less` sets `[hidden] { display: none; }` but bootstrap.min.css set `[hidden] { display: none !important; }` so we also need the `!important` here to be able to override the default hidden behavior on the sphinx rendered scikit-learn.org. See: https://github.com/scikit-learn/scikit-learn/issues/21755 */display: inline-block !important;position: relative;}#sk-container-id-1 div.sk-text-repr-fallback {display: none;}</style><div id=\"sk-container-id-1\" class=\"sk-top-container\"><div class=\"sk-text-repr-fallback\"><pre>Pipeline(steps=[(&#x27;transform&#x27;, FunctionTransformer(func=&lt;ufunc &#x27;log1p&#x27;&gt;)),\n",
       "                (&#x27;poly_features&#x27;, PolynomialFeatures(include_bias=False)),\n",
       "                (&#x27;std_scaler&#x27;, StandardScaler()),\n",
       "                (&#x27;extra_tree&#x27;,\n",
       "                 ExtraTreesClassifier(max_features=1.0, min_samples_leaf=100,\n",
       "                                      n_estimators=500, random_state=42))])</pre><b>In a Jupyter environment, please rerun this cell to show the HTML representation or trust the notebook. <br />On GitHub, the HTML representation is unable to render, please try loading this page with nbviewer.org.</b></div><div class=\"sk-container\" hidden><div class=\"sk-item sk-dashed-wrapped\"><div class=\"sk-label-container\"><div class=\"sk-label sk-toggleable\"><input class=\"sk-toggleable__control sk-hidden--visually\" id=\"sk-estimator-id-1\" type=\"checkbox\" ><label for=\"sk-estimator-id-1\" class=\"sk-toggleable__label sk-toggleable__label-arrow\">Pipeline</label><div class=\"sk-toggleable__content\"><pre>Pipeline(steps=[(&#x27;transform&#x27;, FunctionTransformer(func=&lt;ufunc &#x27;log1p&#x27;&gt;)),\n",
       "                (&#x27;poly_features&#x27;, PolynomialFeatures(include_bias=False)),\n",
       "                (&#x27;std_scaler&#x27;, StandardScaler()),\n",
       "                (&#x27;extra_tree&#x27;,\n",
       "                 ExtraTreesClassifier(max_features=1.0, min_samples_leaf=100,\n",
       "                                      n_estimators=500, random_state=42))])</pre></div></div></div><div class=\"sk-serial\"><div class=\"sk-item\"><div class=\"sk-estimator sk-toggleable\"><input class=\"sk-toggleable__control sk-hidden--visually\" id=\"sk-estimator-id-2\" type=\"checkbox\" ><label for=\"sk-estimator-id-2\" class=\"sk-toggleable__label sk-toggleable__label-arrow\">FunctionTransformer</label><div class=\"sk-toggleable__content\"><pre>FunctionTransformer(func=&lt;ufunc &#x27;log1p&#x27;&gt;)</pre></div></div></div><div class=\"sk-item\"><div class=\"sk-estimator sk-toggleable\"><input class=\"sk-toggleable__control sk-hidden--visually\" id=\"sk-estimator-id-3\" type=\"checkbox\" ><label for=\"sk-estimator-id-3\" class=\"sk-toggleable__label sk-toggleable__label-arrow\">PolynomialFeatures</label><div class=\"sk-toggleable__content\"><pre>PolynomialFeatures(include_bias=False)</pre></div></div></div><div class=\"sk-item\"><div class=\"sk-estimator sk-toggleable\"><input class=\"sk-toggleable__control sk-hidden--visually\" id=\"sk-estimator-id-4\" type=\"checkbox\" ><label for=\"sk-estimator-id-4\" class=\"sk-toggleable__label sk-toggleable__label-arrow\">StandardScaler</label><div class=\"sk-toggleable__content\"><pre>StandardScaler()</pre></div></div></div><div class=\"sk-item\"><div class=\"sk-estimator sk-toggleable\"><input class=\"sk-toggleable__control sk-hidden--visually\" id=\"sk-estimator-id-5\" type=\"checkbox\" ><label for=\"sk-estimator-id-5\" class=\"sk-toggleable__label sk-toggleable__label-arrow\">ExtraTreesClassifier</label><div class=\"sk-toggleable__content\"><pre>ExtraTreesClassifier(max_features=1.0, min_samples_leaf=100, n_estimators=500,\n",
       "                     random_state=42)</pre></div></div></div></div></div></div></div>"
      ],
      "text/plain": [
       "Pipeline(steps=[('transform', FunctionTransformer(func=<ufunc 'log1p'>)),\n",
       "                ('poly_features', PolynomialFeatures(include_bias=False)),\n",
       "                ('std_scaler', StandardScaler()),\n",
       "                ('extra_tree',\n",
       "                 ExtraTreesClassifier(max_features=1.0, min_samples_leaf=100,\n",
       "                                      n_estimators=500, random_state=42))])"
      ]
     },
     "execution_count": 36,
     "metadata": {},
     "output_type": "execute_result"
    }
   ],
   "source": [
    "pipes[\"extra_tree\"].set_params(**{\n",
    "    \"extra_tree__n_estimators\": 500,\n",
    "    \"extra_tree__min_samples_leaf\": 100,\n",
    "    \"extra_tree__max_features\": 1.0,\n",
    "    \"extra_tree__random_state\": 42\n",
    "})"
   ]
  },
  {
   "cell_type": "markdown",
   "id": "75756236",
   "metadata": {
    "papermill": {
     "duration": 0.018693,
     "end_time": "2023-10-15T06:33:13.982832",
     "exception": false,
     "start_time": "2023-10-15T06:33:13.964139",
     "status": "completed"
    },
    "tags": []
   },
   "source": [
    "### Tuning linear models"
   ]
  },
  {
   "cell_type": "code",
   "execution_count": 37,
   "id": "42abb8bc",
   "metadata": {
    "execution": {
     "iopub.execute_input": "2023-10-15T06:33:14.021515Z",
     "iopub.status.busy": "2023-10-15T06:33:14.020873Z",
     "iopub.status.idle": "2023-10-15T06:33:14.024429Z",
     "shell.execute_reply": "2023-10-15T06:33:14.023728Z"
    },
    "papermill": {
     "duration": 0.025155,
     "end_time": "2023-10-15T06:33:14.026417",
     "exception": false,
     "start_time": "2023-10-15T06:33:14.001262",
     "status": "completed"
    },
    "tags": []
   },
   "outputs": [],
   "source": [
    "# # Logistic regression\n",
    "# pipes[\"logistic\"].set_params(**{\n",
    "#     \"logistic__C\": 0.1,\n",
    "#     \"logistic__tol\": .001\n",
    "# })"
   ]
  },
  {
   "cell_type": "code",
   "execution_count": 38,
   "id": "9a30b39f",
   "metadata": {
    "execution": {
     "iopub.execute_input": "2023-10-15T06:33:14.066403Z",
     "iopub.status.busy": "2023-10-15T06:33:14.065803Z",
     "iopub.status.idle": "2023-10-15T06:33:14.069303Z",
     "shell.execute_reply": "2023-10-15T06:33:14.068561Z"
    },
    "papermill": {
     "duration": 0.026363,
     "end_time": "2023-10-15T06:33:14.071261",
     "exception": false,
     "start_time": "2023-10-15T06:33:14.044898",
     "status": "completed"
    },
    "tags": []
   },
   "outputs": [],
   "source": [
    "# # Elastic net\n",
    "# pipes[\"elasticnet\"].set_params(**{\n",
    "#     \"elasticnet__alpha\": 0.01,\n",
    "#     \"elasticnet__tol\": 0.001\n",
    "# })"
   ]
  },
  {
   "cell_type": "code",
   "execution_count": 39,
   "id": "fc0e5be4",
   "metadata": {
    "execution": {
     "iopub.execute_input": "2023-10-15T06:33:14.111507Z",
     "iopub.status.busy": "2023-10-15T06:33:14.110744Z",
     "iopub.status.idle": "2023-10-15T07:32:24.688038Z",
     "shell.execute_reply": "2023-10-15T07:32:24.687246Z"
    },
    "papermill": {
     "duration": 3550.59901,
     "end_time": "2023-10-15T07:32:24.689966",
     "exception": false,
     "start_time": "2023-10-15T06:33:14.090956",
     "status": "completed"
    },
    "tags": []
   },
   "outputs": [
    {
     "name": "stdout",
     "output_type": "stream",
     "text": [
      "Pipeline(steps=[('transform', FunctionTransformer(func=<ufunc 'log1p'>)),\n",
      "                ('poly_features', PolynomialFeatures(include_bias=False)),\n",
      "                ('std_scaler', StandardScaler()),\n",
      "                ('extra_tree',\n",
      "                 ExtraTreesClassifier(max_features=1.0, min_samples_leaf=100,\n",
      "                                      n_estimators=500, random_state=42))])\n"
     ]
    },
    {
     "data": {
      "image/png": "[encoded data removed]",
      "text/plain": [
       "<Figure size 640x480 with 1 Axes>"
      ]
     },
     "metadata": {},
     "output_type": "display_data"
    },
    {
     "data": {
      "image/png": "[encoded data removed]",
      "text/plain": [
       "<Figure size 640x480 with 1 Axes>"
      ]
     },
     "metadata": {},
     "output_type": "display_data"
    }
   ],
   "source": [
    "plot_estimators()"
   ]
  },
  {
   "cell_type": "markdown",
   "id": "0c9af423",
   "metadata": {
    "papermill": {
     "duration": 0.018895,
     "end_time": "2023-10-15T07:32:24.731027",
     "exception": false,
     "start_time": "2023-10-15T07:32:24.712132",
     "status": "completed"
    },
    "tags": []
   },
   "source": [
    "### Learning curves"
   ]
  },
  {
   "cell_type": "code",
   "execution_count": 40,
   "id": "9faa643b",
   "metadata": {
    "execution": {
     "iopub.execute_input": "2023-10-15T07:32:24.771889Z",
     "iopub.status.busy": "2023-10-15T07:32:24.771466Z",
     "iopub.status.idle": "2023-10-15T07:32:24.780147Z",
     "shell.execute_reply": "2023-10-15T07:32:24.778984Z"
    },
    "papermill": {
     "duration": 0.031792,
     "end_time": "2023-10-15T07:32:24.782396",
     "exception": false,
     "start_time": "2023-10-15T07:32:24.750604",
     "status": "completed"
    },
    "tags": []
   },
   "outputs": [],
   "source": [
    "def plot_learning_curve(estimator, title, X, y, ylim=None, cv=None, n_jobs=-1, train_sizes=np.linspace(.1, 1.0, 5)):\n",
    "    plt.figure()\n",
    "    plt.title(title)\n",
    "    if ylim is not None:\n",
    "        plt.ylim(*ylim)\n",
    "    plt.xlabel(\"Training examples\")\n",
    "    plt.ylabel(\"Score\")\n",
    "    train_sizes, train_scores, test_scores = learning_curve(\n",
    "        estimator, X, y, cv=cv, n_jobs=n_jobs, train_sizes=train_sizes)\n",
    "    train_scores_mean = np.mean(train_scores, axis=1)\n",
    "    train_scores_std = np.std(train_scores, axis=1)\n",
    "    test_scores_mean = np.mean(test_scores, axis=1)\n",
    "    test_scores_std = np.std(test_scores, axis=1)\n",
    "    plt.grid()\n",
    "\n",
    "    plt.fill_between(train_sizes, train_scores_mean - train_scores_std,\n",
    "                     train_scores_mean + train_scores_std, alpha=0.1,\n",
    "                     color=\"r\")\n",
    "    plt.fill_between(train_sizes, test_scores_mean - test_scores_std,\n",
    "                     test_scores_mean + test_scores_std, alpha=0.1, color=\"g\")\n",
    "    plt.plot(train_sizes, train_scores_mean, 'o-', color=\"r\",\n",
    "             label=\"Training score\")\n",
    "    plt.plot(train_sizes, test_scores_mean, 'o-', color=\"g\",\n",
    "             label=\"Cross-validation score\")\n",
    "\n",
    "    plt.legend(loc=\"best\")\n",
    "    return plt"
   ]
  },
  {
   "cell_type": "code",
   "execution_count": 41,
   "id": "c34aeeb3",
   "metadata": {
    "execution": {
     "iopub.execute_input": "2023-10-15T07:32:24.823609Z",
     "iopub.status.busy": "2023-10-15T07:32:24.822972Z",
     "iopub.status.idle": "2023-10-15T07:32:24.870248Z",
     "shell.execute_reply": "2023-10-15T07:32:24.869003Z"
    },
    "papermill": {
     "duration": 0.070242,
     "end_time": "2023-10-15T07:32:24.872776",
     "exception": false,
     "start_time": "2023-10-15T07:32:24.802534",
     "status": "completed"
    },
    "tags": []
   },
   "outputs": [],
   "source": [
    "dummy_transform = transform\n",
    "X_dummy = dummy_transform.fit_transform(X)"
   ]
  },
  {
   "cell_type": "code",
   "execution_count": 42,
   "id": "4cca21a8",
   "metadata": {
    "execution": {
     "iopub.execute_input": "2023-10-15T07:32:24.913693Z",
     "iopub.status.busy": "2023-10-15T07:32:24.912962Z",
     "iopub.status.idle": "2023-10-15T07:41:23.870641Z",
     "shell.execute_reply": "2023-10-15T07:41:23.869461Z"
    },
    "papermill": {
     "duration": 539.001858,
     "end_time": "2023-10-15T07:41:23.893698",
     "exception": false,
     "start_time": "2023-10-15T07:32:24.891840",
     "status": "completed"
    },
    "tags": []
   },
   "outputs": [
    {
     "name": "stdout",
     "output_type": "stream",
     "text": [
      "Plotting extra_tree\n"
     ]
    },
    {
     "data": {
      "image/png": "[encoded data removed]",
      "text/plain": [
       "<Figure size 640x480 with 1 Axes>"
      ]
     },
     "metadata": {},
     "output_type": "display_data"
    }
   ],
   "source": [
    "to_plot = [\"extra_tree\"]\n",
    "\n",
    "for name in pipes.keys():\n",
    "    if name in to_plot:\n",
    "        print(f\"Plotting {name}\")\n",
    "        g = plot_learning_curve(\n",
    "            pipes[name].named_steps[name],\n",
    "            f\"{name} learning curves\",\n",
    "            X_dummy,\n",
    "            y,\n",
    "            cv=KFold(5),\n",
    "            n_jobs=4\n",
    "        )"
   ]
  },
  {
   "cell_type": "markdown",
   "id": "0a165b58",
   "metadata": {
    "papermill": {
     "duration": 0.090204,
     "end_time": "2023-10-15T07:41:24.004625",
     "exception": false,
     "start_time": "2023-10-15T07:41:23.914421",
     "status": "completed"
    },
    "tags": []
   },
   "source": [
    "### Tree-based feature importance (todo)"
   ]
  },
  {
   "cell_type": "code",
   "execution_count": 43,
   "id": "3064ccb9",
   "metadata": {
    "execution": {
     "iopub.execute_input": "2023-10-15T07:41:24.048122Z",
     "iopub.status.busy": "2023-10-15T07:41:24.047747Z",
     "iopub.status.idle": "2023-10-15T07:41:24.052355Z",
     "shell.execute_reply": "2023-10-15T07:41:24.051537Z"
    },
    "papermill": {
     "duration": 0.029505,
     "end_time": "2023-10-15T07:41:24.054269",
     "exception": false,
     "start_time": "2023-10-15T07:41:24.024764",
     "status": "completed"
    },
    "tags": []
   },
   "outputs": [],
   "source": [
    "# TODO"
   ]
  },
  {
   "cell_type": "markdown",
   "id": "616ddbf9",
   "metadata": {
    "papermill": {
     "duration": 0.019476,
     "end_time": "2023-10-15T07:41:24.093752",
     "exception": false,
     "start_time": "2023-10-15T07:41:24.074276",
     "status": "completed"
    },
    "tags": []
   },
   "source": [
    "### Estimator prediction correlation"
   ]
  },
  {
   "cell_type": "code",
   "execution_count": 44,
   "id": "525bd518",
   "metadata": {
    "execution": {
     "iopub.execute_input": "2023-10-15T07:41:24.135294Z",
     "iopub.status.busy": "2023-10-15T07:41:24.134931Z",
     "iopub.status.idle": "2023-10-15T07:41:24.139145Z",
     "shell.execute_reply": "2023-10-15T07:41:24.138048Z"
    },
    "papermill": {
     "duration": 0.027946,
     "end_time": "2023-10-15T07:41:24.141596",
     "exception": false,
     "start_time": "2023-10-15T07:41:24.113650",
     "status": "completed"
    },
    "tags": []
   },
   "outputs": [],
   "source": [
    "# ensemble_results = pd.DataFrame()\n",
    "\n",
    "# for name, pipe in pipes.items():\n",
    "#     ensemble_results[name] = pipe.predict(X)\n",
    "    \n",
    "# sns.heatmap(ensemble_results.corr(), annot=True)"
   ]
  },
  {
   "cell_type": "markdown",
   "id": "ee118d4d",
   "metadata": {
    "papermill": {
     "duration": 0.021167,
     "end_time": "2023-10-15T07:41:24.184069",
     "exception": false,
     "start_time": "2023-10-15T07:41:24.162902",
     "status": "completed"
    },
    "tags": []
   },
   "source": [
    "# Predicting the test set"
   ]
  },
  {
   "cell_type": "code",
   "execution_count": 45,
   "id": "feb0fbd6",
   "metadata": {
    "execution": {
     "iopub.execute_input": "2023-10-15T07:41:24.227135Z",
     "iopub.status.busy": "2023-10-15T07:41:24.226342Z",
     "iopub.status.idle": "2023-10-15T07:41:24.230405Z",
     "shell.execute_reply": "2023-10-15T07:41:24.229708Z"
    },
    "papermill": {
     "duration": 0.028146,
     "end_time": "2023-10-15T07:41:24.232360",
     "exception": false,
     "start_time": "2023-10-15T07:41:24.204214",
     "status": "completed"
    },
    "tags": []
   },
   "outputs": [],
   "source": [
    "from sklearn.ensemble import VotingClassifier\n",
    "from sklearn.base import clone"
   ]
  },
  {
   "cell_type": "code",
   "execution_count": 46,
   "id": "835c8212",
   "metadata": {
    "execution": {
     "iopub.execute_input": "2023-10-15T07:41:24.274837Z",
     "iopub.status.busy": "2023-10-15T07:41:24.274071Z",
     "iopub.status.idle": "2023-10-15T07:41:24.277710Z",
     "shell.execute_reply": "2023-10-15T07:41:24.277001Z"
    },
    "papermill": {
     "duration": 0.02665,
     "end_time": "2023-10-15T07:41:24.279413",
     "exception": false,
     "start_time": "2023-10-15T07:41:24.252763",
     "status": "completed"
    },
    "tags": []
   },
   "outputs": [],
   "source": [
    "# voting_estimators = [\n",
    "#     (pipes[name].steps[3][0], clone(pipes[name].steps[3][1])) for name in to_plot\n",
    "# ]"
   ]
  },
  {
   "cell_type": "code",
   "execution_count": 47,
   "id": "6df61123",
   "metadata": {
    "execution": {
     "iopub.execute_input": "2023-10-15T07:41:24.321074Z",
     "iopub.status.busy": "2023-10-15T07:41:24.320387Z",
     "iopub.status.idle": "2023-10-15T07:41:24.324044Z",
     "shell.execute_reply": "2023-10-15T07:41:24.323307Z"
    },
    "papermill": {
     "duration": 0.026603,
     "end_time": "2023-10-15T07:41:24.325840",
     "exception": false,
     "start_time": "2023-10-15T07:41:24.299237",
     "status": "completed"
    },
    "tags": []
   },
   "outputs": [],
   "source": [
    "# voting_estimators"
   ]
  },
  {
   "cell_type": "code",
   "execution_count": 48,
   "id": "ad645c52",
   "metadata": {
    "execution": {
     "iopub.execute_input": "2023-10-15T07:41:24.368033Z",
     "iopub.status.busy": "2023-10-15T07:41:24.367255Z",
     "iopub.status.idle": "2023-10-15T07:41:24.371794Z",
     "shell.execute_reply": "2023-10-15T07:41:24.370762Z"
    },
    "papermill": {
     "duration": 0.02823,
     "end_time": "2023-10-15T07:41:24.374089",
     "exception": false,
     "start_time": "2023-10-15T07:41:24.345859",
     "status": "completed"
    },
    "tags": []
   },
   "outputs": [],
   "source": [
    "# vote = Pipeline([\n",
    "#     (\"transform\", transform),\n",
    "#     (\"poly_features\", PolynomialFeatures(2, include_bias=False)),\n",
    "#     (\"std_scaler\", StandardScaler()),\n",
    "#     (\"voter\", VotingClassifier(voting_estimators, \n",
    "#                                voting=\"soft\", \n",
    "#                                n_jobs=4))\n",
    "# ], verbose=True)"
   ]
  },
  {
   "cell_type": "code",
   "execution_count": 49,
   "id": "0624d8b5",
   "metadata": {
    "execution": {
     "iopub.execute_input": "2023-10-15T07:41:24.417093Z",
     "iopub.status.busy": "2023-10-15T07:41:24.416405Z",
     "iopub.status.idle": "2023-10-15T07:41:24.421527Z",
     "shell.execute_reply": "2023-10-15T07:41:24.420777Z"
    },
    "papermill": {
     "duration": 0.028697,
     "end_time": "2023-10-15T07:41:24.423613",
     "exception": false,
     "start_time": "2023-10-15T07:41:24.394916",
     "status": "completed"
    },
    "tags": []
   },
   "outputs": [],
   "source": [
    "vote = Pipeline([\n",
    "    (\"transform\", transform),\n",
    "    (\"poly_features\", PolynomialFeatures(2, include_bias=False)),\n",
    "    (\"std_scaler\", StandardScaler()),\n",
    "    (pipes[\"extra_tree\"].steps[3][0], clone(pipes[\"extra_tree\"].steps[3][1]))\n",
    "], verbose=True)"
   ]
  },
  {
   "cell_type": "code",
   "execution_count": 50,
   "id": "4393ab54",
   "metadata": {
    "execution": {
     "iopub.execute_input": "2023-10-15T07:41:24.465717Z",
     "iopub.status.busy": "2023-10-15T07:41:24.465048Z",
     "iopub.status.idle": "2023-10-15T08:08:43.104533Z",
     "shell.execute_reply": "2023-10-15T08:08:43.103404Z"
    },
    "papermill": {
     "duration": 1638.685643,
     "end_time": "2023-10-15T08:08:43.129361",
     "exception": false,
     "start_time": "2023-10-15T07:41:24.443718",
     "status": "completed"
    },
    "tags": []
   },
   "outputs": [
    {
     "name": "stdout",
     "output_type": "stream",
     "text": [
      "[Pipeline] ......... (step 1 of 4) Processing transform, total=   0.0s\n",
      "[Pipeline] ..... (step 2 of 4) Processing poly_features, total=   0.3s\n",
      "[Pipeline] ........ (step 3 of 4) Processing std_scaler, total=   0.4s\n",
      "[Pipeline] ........ (step 4 of 4) Processing extra_tree, total=27.3min\n"
     ]
    },
    {
     "data": {
      "text/html": [
       "<style>#sk-container-id-2 {color: black;background-color: white;}#sk-container-id-2 pre{padding: 0;}#sk-container-id-2 div.sk-toggleable {background-color: white;}#sk-container-id-2 label.sk-toggleable__label {cursor: pointer;display: block;width: 100%;margin-bottom: 0;padding: 0.3em;box-sizing: border-box;text-align: center;}#sk-container-id-2 label.sk-toggleable__label-arrow:before {content: \"▸\";float: left;margin-right: 0.25em;color: #696969;}#sk-container-id-2 label.sk-toggleable__label-arrow:hover:before {color: black;}#sk-container-id-2 div.sk-estimator:hover label.sk-toggleable__label-arrow:before {color: black;}#sk-container-id-2 div.sk-toggleable__content {max-height: 0;max-width: 0;overflow: hidden;text-align: left;background-color: #f0f8ff;}#sk-container-id-2 div.sk-toggleable__content pre {margin: 0.2em;color: black;border-radius: 0.25em;background-color: #f0f8ff;}#sk-container-id-2 input.sk-toggleable__control:checked~div.sk-toggleable__content {max-height: 200px;max-width: 100%;overflow: auto;}#sk-container-id-2 input.sk-toggleable__control:checked~label.sk-toggleable__label-arrow:before {content: \"▾\";}#sk-container-id-2 div.sk-estimator input.sk-toggleable__control:checked~label.sk-toggleable__label {background-color: #d4ebff;}#sk-container-id-2 div.sk-label input.sk-toggleable__control:checked~label.sk-toggleable__label {background-color: #d4ebff;}#sk-container-id-2 input.sk-hidden--visually {border: 0;clip: rect(1px 1px 1px 1px);clip: rect(1px, 1px, 1px, 1px);height: 1px;margin: -1px;overflow: hidden;padding: 0;position: absolute;width: 1px;}#sk-container-id-2 div.sk-estimator {font-family: monospace;background-color: #f0f8ff;border: 1px dotted black;border-radius: 0.25em;box-sizing: border-box;margin-bottom: 0.5em;}#sk-container-id-2 div.sk-estimator:hover {background-color: #d4ebff;}#sk-container-id-2 div.sk-parallel-item::after {content: \"\";width: 100%;border-bottom: 1px solid gray;flex-grow: 1;}#sk-container-id-2 div.sk-label:hover label.sk-toggleable__label {background-color: #d4ebff;}#sk-container-id-2 div.sk-serial::before {content: \"\";position: absolute;border-left: 1px solid gray;box-sizing: border-box;top: 0;bottom: 0;left: 50%;z-index: 0;}#sk-container-id-2 div.sk-serial {display: flex;flex-direction: column;align-items: center;background-color: white;padding-right: 0.2em;padding-left: 0.2em;position: relative;}#sk-container-id-2 div.sk-item {position: relative;z-index: 1;}#sk-container-id-2 div.sk-parallel {display: flex;align-items: stretch;justify-content: center;background-color: white;position: relative;}#sk-container-id-2 div.sk-item::before, #sk-container-id-2 div.sk-parallel-item::before {content: \"\";position: absolute;border-left: 1px solid gray;box-sizing: border-box;top: 0;bottom: 0;left: 50%;z-index: -1;}#sk-container-id-2 div.sk-parallel-item {display: flex;flex-direction: column;z-index: 1;position: relative;background-color: white;}#sk-container-id-2 div.sk-parallel-item:first-child::after {align-self: flex-end;width: 50%;}#sk-container-id-2 div.sk-parallel-item:last-child::after {align-self: flex-start;width: 50%;}#sk-container-id-2 div.sk-parallel-item:only-child::after {width: 0;}#sk-container-id-2 div.sk-dashed-wrapped {border: 1px dashed gray;margin: 0 0.4em 0.5em 0.4em;box-sizing: border-box;padding-bottom: 0.4em;background-color: white;}#sk-container-id-2 div.sk-label label {font-family: monospace;font-weight: bold;display: inline-block;line-height: 1.2em;}#sk-container-id-2 div.sk-label-container {text-align: center;}#sk-container-id-2 div.sk-container {/* jupyter's `normalize.less` sets `[hidden] { display: none; }` but bootstrap.min.css set `[hidden] { display: none !important; }` so we also need the `!important` here to be able to override the default hidden behavior on the sphinx rendered scikit-learn.org. See: https://github.com/scikit-learn/scikit-learn/issues/21755 */display: inline-block !important;position: relative;}#sk-container-id-2 div.sk-text-repr-fallback {display: none;}</style><div id=\"sk-container-id-2\" class=\"sk-top-container\"><div class=\"sk-text-repr-fallback\"><pre>Pipeline(steps=[(&#x27;transform&#x27;, FunctionTransformer(func=&lt;ufunc &#x27;log1p&#x27;&gt;)),\n",
       "                (&#x27;poly_features&#x27;, PolynomialFeatures(include_bias=False)),\n",
       "                (&#x27;std_scaler&#x27;, StandardScaler()),\n",
       "                (&#x27;extra_tree&#x27;,\n",
       "                 ExtraTreesClassifier(max_features=1.0, min_samples_leaf=100,\n",
       "                                      n_estimators=500, random_state=42))],\n",
       "         verbose=True)</pre><b>In a Jupyter environment, please rerun this cell to show the HTML representation or trust the notebook. <br />On GitHub, the HTML representation is unable to render, please try loading this page with nbviewer.org.</b></div><div class=\"sk-container\" hidden><div class=\"sk-item sk-dashed-wrapped\"><div class=\"sk-label-container\"><div class=\"sk-label sk-toggleable\"><input class=\"sk-toggleable__control sk-hidden--visually\" id=\"sk-estimator-id-6\" type=\"checkbox\" ><label for=\"sk-estimator-id-6\" class=\"sk-toggleable__label sk-toggleable__label-arrow\">Pipeline</label><div class=\"sk-toggleable__content\"><pre>Pipeline(steps=[(&#x27;transform&#x27;, FunctionTransformer(func=&lt;ufunc &#x27;log1p&#x27;&gt;)),\n",
       "                (&#x27;poly_features&#x27;, PolynomialFeatures(include_bias=False)),\n",
       "                (&#x27;std_scaler&#x27;, StandardScaler()),\n",
       "                (&#x27;extra_tree&#x27;,\n",
       "                 ExtraTreesClassifier(max_features=1.0, min_samples_leaf=100,\n",
       "                                      n_estimators=500, random_state=42))],\n",
       "         verbose=True)</pre></div></div></div><div class=\"sk-serial\"><div class=\"sk-item\"><div class=\"sk-estimator sk-toggleable\"><input class=\"sk-toggleable__control sk-hidden--visually\" id=\"sk-estimator-id-7\" type=\"checkbox\" ><label for=\"sk-estimator-id-7\" class=\"sk-toggleable__label sk-toggleable__label-arrow\">FunctionTransformer</label><div class=\"sk-toggleable__content\"><pre>FunctionTransformer(func=&lt;ufunc &#x27;log1p&#x27;&gt;)</pre></div></div></div><div class=\"sk-item\"><div class=\"sk-estimator sk-toggleable\"><input class=\"sk-toggleable__control sk-hidden--visually\" id=\"sk-estimator-id-8\" type=\"checkbox\" ><label for=\"sk-estimator-id-8\" class=\"sk-toggleable__label sk-toggleable__label-arrow\">PolynomialFeatures</label><div class=\"sk-toggleable__content\"><pre>PolynomialFeatures(include_bias=False)</pre></div></div></div><div class=\"sk-item\"><div class=\"sk-estimator sk-toggleable\"><input class=\"sk-toggleable__control sk-hidden--visually\" id=\"sk-estimator-id-9\" type=\"checkbox\" ><label for=\"sk-estimator-id-9\" class=\"sk-toggleable__label sk-toggleable__label-arrow\">StandardScaler</label><div class=\"sk-toggleable__content\"><pre>StandardScaler()</pre></div></div></div><div class=\"sk-item\"><div class=\"sk-estimator sk-toggleable\"><input class=\"sk-toggleable__control sk-hidden--visually\" id=\"sk-estimator-id-10\" type=\"checkbox\" ><label for=\"sk-estimator-id-10\" class=\"sk-toggleable__label sk-toggleable__label-arrow\">ExtraTreesClassifier</label><div class=\"sk-toggleable__content\"><pre>ExtraTreesClassifier(max_features=1.0, min_samples_leaf=100, n_estimators=500,\n",
       "                     random_state=42)</pre></div></div></div></div></div></div></div>"
      ],
      "text/plain": [
       "Pipeline(steps=[('transform', FunctionTransformer(func=<ufunc 'log1p'>)),\n",
       "                ('poly_features', PolynomialFeatures(include_bias=False)),\n",
       "                ('std_scaler', StandardScaler()),\n",
       "                ('extra_tree',\n",
       "                 ExtraTreesClassifier(max_features=1.0, min_samples_leaf=100,\n",
       "                                      n_estimators=500, random_state=42))],\n",
       "         verbose=True)"
      ]
     },
     "execution_count": 50,
     "metadata": {},
     "output_type": "execute_result"
    }
   ],
   "source": [
    "vote.fit(X, y)"
   ]
  },
  {
   "cell_type": "code",
   "execution_count": 51,
   "id": "76cfacc0",
   "metadata": {
    "execution": {
     "iopub.execute_input": "2023-10-15T08:08:43.173297Z",
     "iopub.status.busy": "2023-10-15T08:08:43.172876Z",
     "iopub.status.idle": "2023-10-15T08:08:43.182361Z",
     "shell.execute_reply": "2023-10-15T08:08:43.181105Z"
    },
    "papermill": {
     "duration": 0.034705,
     "end_time": "2023-10-15T08:08:43.184802",
     "exception": false,
     "start_time": "2023-10-15T08:08:43.150097",
     "status": "completed"
    },
    "tags": []
   },
   "outputs": [],
   "source": [
    "test_data = test.drop([\"id\"], axis=1)"
   ]
  },
  {
   "cell_type": "code",
   "execution_count": 52,
   "id": "e0544ffd",
   "metadata": {
    "execution": {
     "iopub.execute_input": "2023-10-15T08:08:43.233100Z",
     "iopub.status.busy": "2023-10-15T08:08:43.232741Z",
     "iopub.status.idle": "2023-10-15T08:08:50.932623Z",
     "shell.execute_reply": "2023-10-15T08:08:50.931149Z"
    },
    "papermill": {
     "duration": 7.729058,
     "end_time": "2023-10-15T08:08:50.935061",
     "exception": false,
     "start_time": "2023-10-15T08:08:43.206003",
     "status": "completed"
    },
    "tags": []
   },
   "outputs": [],
   "source": [
    "pred_probs = vote.predict_proba(test_data)[:, 1]"
   ]
  },
  {
   "cell_type": "code",
   "execution_count": 53,
   "id": "c3f8e776",
   "metadata": {
    "execution": {
     "iopub.execute_input": "2023-10-15T08:08:50.981572Z",
     "iopub.status.busy": "2023-10-15T08:08:50.980880Z",
     "iopub.status.idle": "2023-10-15T08:08:50.988588Z",
     "shell.execute_reply": "2023-10-15T08:08:50.987546Z"
    },
    "papermill": {
     "duration": 0.032914,
     "end_time": "2023-10-15T08:08:50.990826",
     "exception": false,
     "start_time": "2023-10-15T08:08:50.957912",
     "status": "completed"
    },
    "tags": []
   },
   "outputs": [
    {
     "data": {
      "text/plain": [
       "array([0.21862043, 0.19350583, 0.63414823, ..., 0.17552758, 0.10964117,\n",
       "       0.78145335])"
      ]
     },
     "execution_count": 53,
     "metadata": {},
     "output_type": "execute_result"
    }
   ],
   "source": [
    "pred_probs"
   ]
  },
  {
   "cell_type": "code",
   "execution_count": 54,
   "id": "1153c843",
   "metadata": {
    "execution": {
     "iopub.execute_input": "2023-10-15T08:08:51.035711Z",
     "iopub.status.busy": "2023-10-15T08:08:51.035297Z",
     "iopub.status.idle": "2023-10-15T08:08:51.258821Z",
     "shell.execute_reply": "2023-10-15T08:08:51.257735Z"
    },
    "papermill": {
     "duration": 0.249643,
     "end_time": "2023-10-15T08:08:51.261190",
     "exception": false,
     "start_time": "2023-10-15T08:08:51.011547",
     "status": "completed"
    },
    "tags": []
   },
   "outputs": [
    {
     "data": {
      "image/png": "[encoded data removed]",
      "text/plain": [
       "<Figure size 640x480 with 1 Axes>"
      ]
     },
     "metadata": {},
     "output_type": "display_data"
    }
   ],
   "source": [
    "plt.hist(pred_probs)\n",
    "plt.show()"
   ]
  },
  {
   "cell_type": "code",
   "execution_count": 55,
   "id": "164f4b7a",
   "metadata": {
    "execution": {
     "iopub.execute_input": "2023-10-15T08:08:51.307451Z",
     "iopub.status.busy": "2023-10-15T08:08:51.306513Z",
     "iopub.status.idle": "2023-10-15T08:08:51.312928Z",
     "shell.execute_reply": "2023-10-15T08:08:51.311789Z"
    },
    "papermill": {
     "duration": 0.032752,
     "end_time": "2023-10-15T08:08:51.315146",
     "exception": false,
     "start_time": "2023-10-15T08:08:51.282394",
     "status": "completed"
    },
    "tags": []
   },
   "outputs": [],
   "source": [
    "submission_df = pd.DataFrame({\n",
    "    \"id\": test[\"id\"],\n",
    "    \"defects\": pred_probs\n",
    "})"
   ]
  },
  {
   "cell_type": "code",
   "execution_count": 56,
   "id": "a5ee67dc",
   "metadata": {
    "execution": {
     "iopub.execute_input": "2023-10-15T08:08:51.360878Z",
     "iopub.status.busy": "2023-10-15T08:08:51.360442Z",
     "iopub.status.idle": "2023-10-15T08:08:51.373668Z",
     "shell.execute_reply": "2023-10-15T08:08:51.372465Z"
    },
    "papermill": {
     "duration": 0.039021,
     "end_time": "2023-10-15T08:08:51.375728",
     "exception": false,
     "start_time": "2023-10-15T08:08:51.336707",
     "status": "completed"
    },
    "tags": []
   },
   "outputs": [
    {
     "data": {
      "text/html": [
       "<div>\n",
       "<style scoped>\n",
       "    .dataframe tbody tr th:only-of-type {\n",
       "        vertical-align: middle;\n",
       "    }\n",
       "\n",
       "    .dataframe tbody tr th {\n",
       "        vertical-align: top;\n",
       "    }\n",
       "\n",
       "    .dataframe thead th {\n",
       "        text-align: right;\n",
       "    }\n",
       "</style>\n",
       "<table border=\"1\" class=\"dataframe\">\n",
       "  <thead>\n",
       "    <tr style=\"text-align: right;\">\n",
       "      <th></th>\n",
       "      <th>id</th>\n",
       "      <th>defects</th>\n",
       "    </tr>\n",
       "  </thead>\n",
       "  <tbody>\n",
       "    <tr>\n",
       "      <th>0</th>\n",
       "      <td>101763</td>\n",
       "      <td>0.218620</td>\n",
       "    </tr>\n",
       "    <tr>\n",
       "      <th>1</th>\n",
       "      <td>101764</td>\n",
       "      <td>0.193506</td>\n",
       "    </tr>\n",
       "    <tr>\n",
       "      <th>2</th>\n",
       "      <td>101765</td>\n",
       "      <td>0.634148</td>\n",
       "    </tr>\n",
       "    <tr>\n",
       "      <th>3</th>\n",
       "      <td>101766</td>\n",
       "      <td>0.459636</td>\n",
       "    </tr>\n",
       "    <tr>\n",
       "      <th>4</th>\n",
       "      <td>101767</td>\n",
       "      <td>0.151028</td>\n",
       "    </tr>\n",
       "    <tr>\n",
       "      <th>...</th>\n",
       "      <td>...</td>\n",
       "      <td>...</td>\n",
       "    </tr>\n",
       "    <tr>\n",
       "      <th>67837</th>\n",
       "      <td>169600</td>\n",
       "      <td>0.290296</td>\n",
       "    </tr>\n",
       "    <tr>\n",
       "      <th>67838</th>\n",
       "      <td>169601</td>\n",
       "      <td>0.109829</td>\n",
       "    </tr>\n",
       "    <tr>\n",
       "      <th>67839</th>\n",
       "      <td>169602</td>\n",
       "      <td>0.175528</td>\n",
       "    </tr>\n",
       "    <tr>\n",
       "      <th>67840</th>\n",
       "      <td>169603</td>\n",
       "      <td>0.109641</td>\n",
       "    </tr>\n",
       "    <tr>\n",
       "      <th>67841</th>\n",
       "      <td>169604</td>\n",
       "      <td>0.781453</td>\n",
       "    </tr>\n",
       "  </tbody>\n",
       "</table>\n",
       "<p>67842 rows × 2 columns</p>\n",
       "</div>"
      ],
      "text/plain": [
       "           id   defects\n",
       "0      101763  0.218620\n",
       "1      101764  0.193506\n",
       "2      101765  0.634148\n",
       "3      101766  0.459636\n",
       "4      101767  0.151028\n",
       "...       ...       ...\n",
       "67837  169600  0.290296\n",
       "67838  169601  0.109829\n",
       "67839  169602  0.175528\n",
       "67840  169603  0.109641\n",
       "67841  169604  0.781453\n",
       "\n",
       "[67842 rows x 2 columns]"
      ]
     },
     "execution_count": 56,
     "metadata": {},
     "output_type": "execute_result"
    }
   ],
   "source": [
    "submission_df"
   ]
  },
  {
   "cell_type": "code",
   "execution_count": 57,
   "id": "e002a855",
   "metadata": {
    "execution": {
     "iopub.execute_input": "2023-10-15T08:08:51.421047Z",
     "iopub.status.busy": "2023-10-15T08:08:51.420396Z",
     "iopub.status.idle": "2023-10-15T08:08:51.609180Z",
     "shell.execute_reply": "2023-10-15T08:08:51.607768Z"
    },
    "papermill": {
     "duration": 0.21403,
     "end_time": "2023-10-15T08:08:51.611662",
     "exception": false,
     "start_time": "2023-10-15T08:08:51.397632",
     "status": "completed"
    },
    "tags": []
   },
   "outputs": [],
   "source": [
    "submission_df.to_csv(\"submission.csv\", index=False)"
   ]
  },
  {
   "cell_type": "code",
   "execution_count": null,
   "id": "10c5270e",
   "metadata": {
    "papermill": {
     "duration": 0.022438,
     "end_time": "2023-10-15T08:08:51.658135",
     "exception": false,
     "start_time": "2023-10-15T08:08:51.635697",
     "status": "completed"
    },
    "tags": []
   },
   "outputs": [],
   "source": []
  }
 ],
 "metadata": {
  "kernelspec": {
   "display_name": "Python 3",
   "language": "python",
   "name": "python3"
  },
  "language_info": {
   "codemirror_mode": {
    "name": "ipython",
    "version": 3
   },
   "file_extension": ".py",
   "mimetype": "text/x-python",
   "name": "python",
   "nbconvert_exporter": "python",
   "pygments_lexer": "ipython3",
   "version": "3.10.12"
  },
  "papermill": {
   "default_parameters": {},
   "duration": 5906.47565,
   "end_time": "2023-10-15T08:08:54.310256",
   "environment_variables": {},
   "exception": null,
   "input_path": "__notebook__.ipynb",
   "output_path": "__notebook__.ipynb",
   "parameters": {},
   "start_time": "2023-10-15T06:30:27.834606",
   "version": "2.4.0"
  }
 },
 "nbformat": 4,
 "nbformat_minor": 5
}
